{
  "nbformat": 4,
  "nbformat_minor": 0,
  "metadata": {
    "colab": {
      "name": "Text2Json.ipynb",
      "provenance": [],
      "collapsed_sections": [],
      "machine_shape": "hm"
    },
    "kernelspec": {
      "name": "python3",
      "display_name": "Python 3"
    },
    "language_info": {
      "name": "python"
    },
    "widgets": {
      "application/vnd.jupyter.widget-state+json": {
        "849b27ad2b7f4d3cbfbe3501ad0722d7": {
          "model_module": "@jupyter-widgets/controls",
          "model_name": "HBoxModel",
          "model_module_version": "1.5.0",
          "state": {
            "_dom_classes": [],
            "_model_module": "@jupyter-widgets/controls",
            "_model_module_version": "1.5.0",
            "_model_name": "HBoxModel",
            "_view_count": null,
            "_view_module": "@jupyter-widgets/controls",
            "_view_module_version": "1.5.0",
            "_view_name": "HBoxView",
            "box_style": "",
            "children": [
              "IPY_MODEL_ecad5008dfd24a30ad55db031bf6b26e",
              "IPY_MODEL_33406c27e4b943c4a681cfb499d35228",
              "IPY_MODEL_737b05f644824f8585849b4ac5cacbbd"
            ],
            "layout": "IPY_MODEL_51e3e7d08f6c47e2a32387351751dacf"
          }
        },
        "ecad5008dfd24a30ad55db031bf6b26e": {
          "model_module": "@jupyter-widgets/controls",
          "model_name": "HTMLModel",
          "model_module_version": "1.5.0",
          "state": {
            "_dom_classes": [],
            "_model_module": "@jupyter-widgets/controls",
            "_model_module_version": "1.5.0",
            "_model_name": "HTMLModel",
            "_view_count": null,
            "_view_module": "@jupyter-widgets/controls",
            "_view_module_version": "1.5.0",
            "_view_name": "HTMLView",
            "description": "",
            "description_tooltip": null,
            "layout": "IPY_MODEL_dbf8af2b1748425cada4bccb8b7e7f67",
            "placeholder": "​",
            "style": "IPY_MODEL_e42708cc1b9546a7b5ad2a1ffbcb10ea",
            "value": "Batches: 100%"
          }
        },
        "33406c27e4b943c4a681cfb499d35228": {
          "model_module": "@jupyter-widgets/controls",
          "model_name": "FloatProgressModel",
          "model_module_version": "1.5.0",
          "state": {
            "_dom_classes": [],
            "_model_module": "@jupyter-widgets/controls",
            "_model_module_version": "1.5.0",
            "_model_name": "FloatProgressModel",
            "_view_count": null,
            "_view_module": "@jupyter-widgets/controls",
            "_view_module_version": "1.5.0",
            "_view_name": "ProgressView",
            "bar_style": "success",
            "description": "",
            "description_tooltip": null,
            "layout": "IPY_MODEL_baa6b80845004ba69b3819749e4a74c2",
            "max": 1,
            "min": 0,
            "orientation": "horizontal",
            "style": "IPY_MODEL_c3743cd3f2ed40be9de1e724248d9301",
            "value": 1
          }
        },
        "737b05f644824f8585849b4ac5cacbbd": {
          "model_module": "@jupyter-widgets/controls",
          "model_name": "HTMLModel",
          "model_module_version": "1.5.0",
          "state": {
            "_dom_classes": [],
            "_model_module": "@jupyter-widgets/controls",
            "_model_module_version": "1.5.0",
            "_model_name": "HTMLModel",
            "_view_count": null,
            "_view_module": "@jupyter-widgets/controls",
            "_view_module_version": "1.5.0",
            "_view_name": "HTMLView",
            "description": "",
            "description_tooltip": null,
            "layout": "IPY_MODEL_fa083a0474374445a4146c4a417d6e49",
            "placeholder": "​",
            "style": "IPY_MODEL_f248dc517d014050abc435bb964e6d4e",
            "value": " 1/1 [00:00&lt;00:00,  6.70it/s]"
          }
        },
        "51e3e7d08f6c47e2a32387351751dacf": {
          "model_module": "@jupyter-widgets/base",
          "model_name": "LayoutModel",
          "model_module_version": "1.2.0",
          "state": {
            "_model_module": "@jupyter-widgets/base",
            "_model_module_version": "1.2.0",
            "_model_name": "LayoutModel",
            "_view_count": null,
            "_view_module": "@jupyter-widgets/base",
            "_view_module_version": "1.2.0",
            "_view_name": "LayoutView",
            "align_content": null,
            "align_items": null,
            "align_self": null,
            "border": null,
            "bottom": null,
            "display": null,
            "flex": null,
            "flex_flow": null,
            "grid_area": null,
            "grid_auto_columns": null,
            "grid_auto_flow": null,
            "grid_auto_rows": null,
            "grid_column": null,
            "grid_gap": null,
            "grid_row": null,
            "grid_template_areas": null,
            "grid_template_columns": null,
            "grid_template_rows": null,
            "height": null,
            "justify_content": null,
            "justify_items": null,
            "left": null,
            "margin": null,
            "max_height": null,
            "max_width": null,
            "min_height": null,
            "min_width": null,
            "object_fit": null,
            "object_position": null,
            "order": null,
            "overflow": null,
            "overflow_x": null,
            "overflow_y": null,
            "padding": null,
            "right": null,
            "top": null,
            "visibility": null,
            "width": null
          }
        },
        "dbf8af2b1748425cada4bccb8b7e7f67": {
          "model_module": "@jupyter-widgets/base",
          "model_name": "LayoutModel",
          "model_module_version": "1.2.0",
          "state": {
            "_model_module": "@jupyter-widgets/base",
            "_model_module_version": "1.2.0",
            "_model_name": "LayoutModel",
            "_view_count": null,
            "_view_module": "@jupyter-widgets/base",
            "_view_module_version": "1.2.0",
            "_view_name": "LayoutView",
            "align_content": null,
            "align_items": null,
            "align_self": null,
            "border": null,
            "bottom": null,
            "display": null,
            "flex": null,
            "flex_flow": null,
            "grid_area": null,
            "grid_auto_columns": null,
            "grid_auto_flow": null,
            "grid_auto_rows": null,
            "grid_column": null,
            "grid_gap": null,
            "grid_row": null,
            "grid_template_areas": null,
            "grid_template_columns": null,
            "grid_template_rows": null,
            "height": null,
            "justify_content": null,
            "justify_items": null,
            "left": null,
            "margin": null,
            "max_height": null,
            "max_width": null,
            "min_height": null,
            "min_width": null,
            "object_fit": null,
            "object_position": null,
            "order": null,
            "overflow": null,
            "overflow_x": null,
            "overflow_y": null,
            "padding": null,
            "right": null,
            "top": null,
            "visibility": null,
            "width": null
          }
        },
        "e42708cc1b9546a7b5ad2a1ffbcb10ea": {
          "model_module": "@jupyter-widgets/controls",
          "model_name": "DescriptionStyleModel",
          "model_module_version": "1.5.0",
          "state": {
            "_model_module": "@jupyter-widgets/controls",
            "_model_module_version": "1.5.0",
            "_model_name": "DescriptionStyleModel",
            "_view_count": null,
            "_view_module": "@jupyter-widgets/base",
            "_view_module_version": "1.2.0",
            "_view_name": "StyleView",
            "description_width": ""
          }
        },
        "baa6b80845004ba69b3819749e4a74c2": {
          "model_module": "@jupyter-widgets/base",
          "model_name": "LayoutModel",
          "model_module_version": "1.2.0",
          "state": {
            "_model_module": "@jupyter-widgets/base",
            "_model_module_version": "1.2.0",
            "_model_name": "LayoutModel",
            "_view_count": null,
            "_view_module": "@jupyter-widgets/base",
            "_view_module_version": "1.2.0",
            "_view_name": "LayoutView",
            "align_content": null,
            "align_items": null,
            "align_self": null,
            "border": null,
            "bottom": null,
            "display": null,
            "flex": null,
            "flex_flow": null,
            "grid_area": null,
            "grid_auto_columns": null,
            "grid_auto_flow": null,
            "grid_auto_rows": null,
            "grid_column": null,
            "grid_gap": null,
            "grid_row": null,
            "grid_template_areas": null,
            "grid_template_columns": null,
            "grid_template_rows": null,
            "height": null,
            "justify_content": null,
            "justify_items": null,
            "left": null,
            "margin": null,
            "max_height": null,
            "max_width": null,
            "min_height": null,
            "min_width": null,
            "object_fit": null,
            "object_position": null,
            "order": null,
            "overflow": null,
            "overflow_x": null,
            "overflow_y": null,
            "padding": null,
            "right": null,
            "top": null,
            "visibility": null,
            "width": null
          }
        },
        "c3743cd3f2ed40be9de1e724248d9301": {
          "model_module": "@jupyter-widgets/controls",
          "model_name": "ProgressStyleModel",
          "model_module_version": "1.5.0",
          "state": {
            "_model_module": "@jupyter-widgets/controls",
            "_model_module_version": "1.5.0",
            "_model_name": "ProgressStyleModel",
            "_view_count": null,
            "_view_module": "@jupyter-widgets/base",
            "_view_module_version": "1.2.0",
            "_view_name": "StyleView",
            "bar_color": null,
            "description_width": ""
          }
        },
        "fa083a0474374445a4146c4a417d6e49": {
          "model_module": "@jupyter-widgets/base",
          "model_name": "LayoutModel",
          "model_module_version": "1.2.0",
          "state": {
            "_model_module": "@jupyter-widgets/base",
            "_model_module_version": "1.2.0",
            "_model_name": "LayoutModel",
            "_view_count": null,
            "_view_module": "@jupyter-widgets/base",
            "_view_module_version": "1.2.0",
            "_view_name": "LayoutView",
            "align_content": null,
            "align_items": null,
            "align_self": null,
            "border": null,
            "bottom": null,
            "display": null,
            "flex": null,
            "flex_flow": null,
            "grid_area": null,
            "grid_auto_columns": null,
            "grid_auto_flow": null,
            "grid_auto_rows": null,
            "grid_column": null,
            "grid_gap": null,
            "grid_row": null,
            "grid_template_areas": null,
            "grid_template_columns": null,
            "grid_template_rows": null,
            "height": null,
            "justify_content": null,
            "justify_items": null,
            "left": null,
            "margin": null,
            "max_height": null,
            "max_width": null,
            "min_height": null,
            "min_width": null,
            "object_fit": null,
            "object_position": null,
            "order": null,
            "overflow": null,
            "overflow_x": null,
            "overflow_y": null,
            "padding": null,
            "right": null,
            "top": null,
            "visibility": null,
            "width": null
          }
        },
        "f248dc517d014050abc435bb964e6d4e": {
          "model_module": "@jupyter-widgets/controls",
          "model_name": "DescriptionStyleModel",
          "model_module_version": "1.5.0",
          "state": {
            "_model_module": "@jupyter-widgets/controls",
            "_model_module_version": "1.5.0",
            "_model_name": "DescriptionStyleModel",
            "_view_count": null,
            "_view_module": "@jupyter-widgets/base",
            "_view_module_version": "1.2.0",
            "_view_name": "StyleView",
            "description_width": ""
          }
        },
        "be890195358d484abab70cd67fc58706": {
          "model_module": "@jupyter-widgets/controls",
          "model_name": "HBoxModel",
          "model_module_version": "1.5.0",
          "state": {
            "_dom_classes": [],
            "_model_module": "@jupyter-widgets/controls",
            "_model_module_version": "1.5.0",
            "_model_name": "HBoxModel",
            "_view_count": null,
            "_view_module": "@jupyter-widgets/controls",
            "_view_module_version": "1.5.0",
            "_view_name": "HBoxView",
            "box_style": "",
            "children": [
              "IPY_MODEL_38e3f8625c62412385e057c755ddf05f",
              "IPY_MODEL_9c5c317c63a9416d86e3ae7ade2505dd",
              "IPY_MODEL_ea5fe1d0d0a348028858d4d03de4a891"
            ],
            "layout": "IPY_MODEL_ba3531c7717d41a0bc0479f0853d6a54"
          }
        },
        "38e3f8625c62412385e057c755ddf05f": {
          "model_module": "@jupyter-widgets/controls",
          "model_name": "HTMLModel",
          "model_module_version": "1.5.0",
          "state": {
            "_dom_classes": [],
            "_model_module": "@jupyter-widgets/controls",
            "_model_module_version": "1.5.0",
            "_model_name": "HTMLModel",
            "_view_count": null,
            "_view_module": "@jupyter-widgets/controls",
            "_view_module_version": "1.5.0",
            "_view_name": "HTMLView",
            "description": "",
            "description_tooltip": null,
            "layout": "IPY_MODEL_470717c2869249a1b05283c8cca15b2c",
            "placeholder": "​",
            "style": "IPY_MODEL_e3d351c9c83142959983030e2c437e62",
            "value": "Downloading: 100%"
          }
        },
        "9c5c317c63a9416d86e3ae7ade2505dd": {
          "model_module": "@jupyter-widgets/controls",
          "model_name": "FloatProgressModel",
          "model_module_version": "1.5.0",
          "state": {
            "_dom_classes": [],
            "_model_module": "@jupyter-widgets/controls",
            "_model_module_version": "1.5.0",
            "_model_name": "FloatProgressModel",
            "_view_count": null,
            "_view_module": "@jupyter-widgets/controls",
            "_view_module_version": "1.5.0",
            "_view_name": "ProgressView",
            "bar_style": "success",
            "description": "",
            "description_tooltip": null,
            "layout": "IPY_MODEL_3bf2dd5466724426bb3665d76c2a8ff1",
            "max": 249072763,
            "min": 0,
            "orientation": "horizontal",
            "style": "IPY_MODEL_9de3f0a7610743c3994c4a57845da4b8",
            "value": 249072763
          }
        },
        "ea5fe1d0d0a348028858d4d03de4a891": {
          "model_module": "@jupyter-widgets/controls",
          "model_name": "HTMLModel",
          "model_module_version": "1.5.0",
          "state": {
            "_dom_classes": [],
            "_model_module": "@jupyter-widgets/controls",
            "_model_module_version": "1.5.0",
            "_model_name": "HTMLModel",
            "_view_count": null,
            "_view_module": "@jupyter-widgets/controls",
            "_view_module_version": "1.5.0",
            "_view_name": "HTMLView",
            "description": "",
            "description_tooltip": null,
            "layout": "IPY_MODEL_5f58c1b3375243749ecaf76e93d35458",
            "placeholder": "​",
            "style": "IPY_MODEL_28fa13800e154dcb8a700dd79d39902e",
            "value": " 249M/249M [00:06&lt;00:00, 37.5MB/s]"
          }
        },
        "ba3531c7717d41a0bc0479f0853d6a54": {
          "model_module": "@jupyter-widgets/base",
          "model_name": "LayoutModel",
          "model_module_version": "1.2.0",
          "state": {
            "_model_module": "@jupyter-widgets/base",
            "_model_module_version": "1.2.0",
            "_model_name": "LayoutModel",
            "_view_count": null,
            "_view_module": "@jupyter-widgets/base",
            "_view_module_version": "1.2.0",
            "_view_name": "LayoutView",
            "align_content": null,
            "align_items": null,
            "align_self": null,
            "border": null,
            "bottom": null,
            "display": null,
            "flex": null,
            "flex_flow": null,
            "grid_area": null,
            "grid_auto_columns": null,
            "grid_auto_flow": null,
            "grid_auto_rows": null,
            "grid_column": null,
            "grid_gap": null,
            "grid_row": null,
            "grid_template_areas": null,
            "grid_template_columns": null,
            "grid_template_rows": null,
            "height": null,
            "justify_content": null,
            "justify_items": null,
            "left": null,
            "margin": null,
            "max_height": null,
            "max_width": null,
            "min_height": null,
            "min_width": null,
            "object_fit": null,
            "object_position": null,
            "order": null,
            "overflow": null,
            "overflow_x": null,
            "overflow_y": null,
            "padding": null,
            "right": null,
            "top": null,
            "visibility": null,
            "width": null
          }
        },
        "470717c2869249a1b05283c8cca15b2c": {
          "model_module": "@jupyter-widgets/base",
          "model_name": "LayoutModel",
          "model_module_version": "1.2.0",
          "state": {
            "_model_module": "@jupyter-widgets/base",
            "_model_module_version": "1.2.0",
            "_model_name": "LayoutModel",
            "_view_count": null,
            "_view_module": "@jupyter-widgets/base",
            "_view_module_version": "1.2.0",
            "_view_name": "LayoutView",
            "align_content": null,
            "align_items": null,
            "align_self": null,
            "border": null,
            "bottom": null,
            "display": null,
            "flex": null,
            "flex_flow": null,
            "grid_area": null,
            "grid_auto_columns": null,
            "grid_auto_flow": null,
            "grid_auto_rows": null,
            "grid_column": null,
            "grid_gap": null,
            "grid_row": null,
            "grid_template_areas": null,
            "grid_template_columns": null,
            "grid_template_rows": null,
            "height": null,
            "justify_content": null,
            "justify_items": null,
            "left": null,
            "margin": null,
            "max_height": null,
            "max_width": null,
            "min_height": null,
            "min_width": null,
            "object_fit": null,
            "object_position": null,
            "order": null,
            "overflow": null,
            "overflow_x": null,
            "overflow_y": null,
            "padding": null,
            "right": null,
            "top": null,
            "visibility": null,
            "width": null
          }
        },
        "e3d351c9c83142959983030e2c437e62": {
          "model_module": "@jupyter-widgets/controls",
          "model_name": "DescriptionStyleModel",
          "model_module_version": "1.5.0",
          "state": {
            "_model_module": "@jupyter-widgets/controls",
            "_model_module_version": "1.5.0",
            "_model_name": "DescriptionStyleModel",
            "_view_count": null,
            "_view_module": "@jupyter-widgets/base",
            "_view_module_version": "1.2.0",
            "_view_name": "StyleView",
            "description_width": ""
          }
        },
        "3bf2dd5466724426bb3665d76c2a8ff1": {
          "model_module": "@jupyter-widgets/base",
          "model_name": "LayoutModel",
          "model_module_version": "1.2.0",
          "state": {
            "_model_module": "@jupyter-widgets/base",
            "_model_module_version": "1.2.0",
            "_model_name": "LayoutModel",
            "_view_count": null,
            "_view_module": "@jupyter-widgets/base",
            "_view_module_version": "1.2.0",
            "_view_name": "LayoutView",
            "align_content": null,
            "align_items": null,
            "align_self": null,
            "border": null,
            "bottom": null,
            "display": null,
            "flex": null,
            "flex_flow": null,
            "grid_area": null,
            "grid_auto_columns": null,
            "grid_auto_flow": null,
            "grid_auto_rows": null,
            "grid_column": null,
            "grid_gap": null,
            "grid_row": null,
            "grid_template_areas": null,
            "grid_template_columns": null,
            "grid_template_rows": null,
            "height": null,
            "justify_content": null,
            "justify_items": null,
            "left": null,
            "margin": null,
            "max_height": null,
            "max_width": null,
            "min_height": null,
            "min_width": null,
            "object_fit": null,
            "object_position": null,
            "order": null,
            "overflow": null,
            "overflow_x": null,
            "overflow_y": null,
            "padding": null,
            "right": null,
            "top": null,
            "visibility": null,
            "width": null
          }
        },
        "9de3f0a7610743c3994c4a57845da4b8": {
          "model_module": "@jupyter-widgets/controls",
          "model_name": "ProgressStyleModel",
          "model_module_version": "1.5.0",
          "state": {
            "_model_module": "@jupyter-widgets/controls",
            "_model_module_version": "1.5.0",
            "_model_name": "ProgressStyleModel",
            "_view_count": null,
            "_view_module": "@jupyter-widgets/base",
            "_view_module_version": "1.2.0",
            "_view_name": "StyleView",
            "bar_color": null,
            "description_width": ""
          }
        },
        "5f58c1b3375243749ecaf76e93d35458": {
          "model_module": "@jupyter-widgets/base",
          "model_name": "LayoutModel",
          "model_module_version": "1.2.0",
          "state": {
            "_model_module": "@jupyter-widgets/base",
            "_model_module_version": "1.2.0",
            "_model_name": "LayoutModel",
            "_view_count": null,
            "_view_module": "@jupyter-widgets/base",
            "_view_module_version": "1.2.0",
            "_view_name": "LayoutView",
            "align_content": null,
            "align_items": null,
            "align_self": null,
            "border": null,
            "bottom": null,
            "display": null,
            "flex": null,
            "flex_flow": null,
            "grid_area": null,
            "grid_auto_columns": null,
            "grid_auto_flow": null,
            "grid_auto_rows": null,
            "grid_column": null,
            "grid_gap": null,
            "grid_row": null,
            "grid_template_areas": null,
            "grid_template_columns": null,
            "grid_template_rows": null,
            "height": null,
            "justify_content": null,
            "justify_items": null,
            "left": null,
            "margin": null,
            "max_height": null,
            "max_width": null,
            "min_height": null,
            "min_width": null,
            "object_fit": null,
            "object_position": null,
            "order": null,
            "overflow": null,
            "overflow_x": null,
            "overflow_y": null,
            "padding": null,
            "right": null,
            "top": null,
            "visibility": null,
            "width": null
          }
        },
        "28fa13800e154dcb8a700dd79d39902e": {
          "model_module": "@jupyter-widgets/controls",
          "model_name": "DescriptionStyleModel",
          "model_module_version": "1.5.0",
          "state": {
            "_model_module": "@jupyter-widgets/controls",
            "_model_module_version": "1.5.0",
            "_model_name": "DescriptionStyleModel",
            "_view_count": null,
            "_view_module": "@jupyter-widgets/base",
            "_view_module_version": "1.2.0",
            "_view_name": "StyleView",
            "description_width": ""
          }
        }
      }
    },
    "accelerator": "GPU"
  },
  "cells": [
    {
      "cell_type": "code",
      "source": [
        "import pandas as pd\n",
        "from keybert import KeyBERT\n",
        "from bertopic import BERTopic\n",
        "from simplet5 import SimpleT5\n",
        "from sklearn.datasets import fetch_20newsgroups\n",
        "from nltk.tokenize import sent_tokenize, word_tokenize\n",
        "import nltk\n",
        "import json"
      ],
      "metadata": {
        "id": "dWE7b-Xq2JKI"
      },
      "execution_count": 54,
      "outputs": []
    },
    {
      "cell_type": "markdown",
      "source": [
        "KeyBERT - Extracting Keywords from the corpus.\n",
        "\n",
        "BERTopic - Retrive the topic of give input text.\n",
        "\n",
        "SimpleT5 - Utilized to get the Title of the text\n",
        "\n"
      ],
      "metadata": {
        "id": "1wpd1Ovdp51c"
      }
    },
    {
      "cell_type": "code",
      "source": [
        "!pip install keybert\n",
        "!pip install bertopic\n",
        "!pip install simplet5"
      ],
      "metadata": {
        "id": "v80h0xdttQTl",
        "colab": {
          "base_uri": "https://localhost:8080/"
        },
        "outputId": "d92b350a-b4b2-475f-b029-81199e9c032b"
      },
      "execution_count": 55,
      "outputs": [
        {
          "output_type": "stream",
          "name": "stdout",
          "text": [
            "Requirement already satisfied: keybert in /usr/local/lib/python3.7/dist-packages (0.5.0)\n",
            "Requirement already satisfied: sentence-transformers>=0.3.8 in /usr/local/lib/python3.7/dist-packages (from keybert) (2.2.0)\n",
            "Requirement already satisfied: scikit-learn>=0.22.2 in /usr/local/lib/python3.7/dist-packages (from keybert) (1.0.2)\n",
            "Requirement already satisfied: rich>=10.4.0 in /usr/local/lib/python3.7/dist-packages (from keybert) (12.0.1)\n",
            "Requirement already satisfied: numpy>=1.18.5 in /usr/local/lib/python3.7/dist-packages (from keybert) (1.21.5)\n",
            "Requirement already satisfied: pygments<3.0.0,>=2.6.0 in /usr/local/lib/python3.7/dist-packages (from rich>=10.4.0->keybert) (2.6.1)\n",
            "Requirement already satisfied: commonmark<0.10.0,>=0.9.0 in /usr/local/lib/python3.7/dist-packages (from rich>=10.4.0->keybert) (0.9.1)\n",
            "Requirement already satisfied: typing-extensions<5.0,>=3.7.4 in /usr/local/lib/python3.7/dist-packages (from rich>=10.4.0->keybert) (3.10.0.2)\n",
            "Requirement already satisfied: scipy>=1.1.0 in /usr/local/lib/python3.7/dist-packages (from scikit-learn>=0.22.2->keybert) (1.4.1)\n",
            "Requirement already satisfied: joblib>=0.11 in /usr/local/lib/python3.7/dist-packages (from scikit-learn>=0.22.2->keybert) (1.1.0)\n",
            "Requirement already satisfied: threadpoolctl>=2.0.0 in /usr/local/lib/python3.7/dist-packages (from scikit-learn>=0.22.2->keybert) (3.1.0)\n",
            "Requirement already satisfied: nltk in /usr/local/lib/python3.7/dist-packages (from sentence-transformers>=0.3.8->keybert) (3.2.5)\n",
            "Requirement already satisfied: torch>=1.6.0 in /usr/local/lib/python3.7/dist-packages (from sentence-transformers>=0.3.8->keybert) (1.10.0+cu111)\n",
            "Requirement already satisfied: transformers<5.0.0,>=4.6.0 in /usr/local/lib/python3.7/dist-packages (from sentence-transformers>=0.3.8->keybert) (4.16.2)\n",
            "Requirement already satisfied: torchvision in /usr/local/lib/python3.7/dist-packages (from sentence-transformers>=0.3.8->keybert) (0.11.1+cu111)\n",
            "Requirement already satisfied: tqdm in /usr/local/lib/python3.7/dist-packages (from sentence-transformers>=0.3.8->keybert) (4.63.0)\n",
            "Requirement already satisfied: huggingface-hub in /usr/local/lib/python3.7/dist-packages (from sentence-transformers>=0.3.8->keybert) (0.4.0)\n",
            "Requirement already satisfied: sentencepiece in /usr/local/lib/python3.7/dist-packages (from sentence-transformers>=0.3.8->keybert) (0.1.96)\n",
            "Requirement already satisfied: importlib-metadata in /usr/local/lib/python3.7/dist-packages (from transformers<5.0.0,>=4.6.0->sentence-transformers>=0.3.8->keybert) (4.11.3)\n",
            "Requirement already satisfied: requests in /usr/local/lib/python3.7/dist-packages (from transformers<5.0.0,>=4.6.0->sentence-transformers>=0.3.8->keybert) (2.23.0)\n",
            "Requirement already satisfied: filelock in /usr/local/lib/python3.7/dist-packages (from transformers<5.0.0,>=4.6.0->sentence-transformers>=0.3.8->keybert) (3.6.0)\n",
            "Requirement already satisfied: tokenizers!=0.11.3,>=0.10.1 in /usr/local/lib/python3.7/dist-packages (from transformers<5.0.0,>=4.6.0->sentence-transformers>=0.3.8->keybert) (0.11.6)\n",
            "Requirement already satisfied: regex!=2019.12.17 in /usr/local/lib/python3.7/dist-packages (from transformers<5.0.0,>=4.6.0->sentence-transformers>=0.3.8->keybert) (2019.12.20)\n",
            "Requirement already satisfied: sacremoses in /usr/local/lib/python3.7/dist-packages (from transformers<5.0.0,>=4.6.0->sentence-transformers>=0.3.8->keybert) (0.0.49)\n",
            "Requirement already satisfied: packaging>=20.0 in /usr/local/lib/python3.7/dist-packages (from transformers<5.0.0,>=4.6.0->sentence-transformers>=0.3.8->keybert) (21.3)\n",
            "Requirement already satisfied: pyyaml>=5.1 in /usr/local/lib/python3.7/dist-packages (from transformers<5.0.0,>=4.6.0->sentence-transformers>=0.3.8->keybert) (5.4.1)\n",
            "Requirement already satisfied: pyparsing!=3.0.5,>=2.0.2 in /usr/local/lib/python3.7/dist-packages (from packaging>=20.0->transformers<5.0.0,>=4.6.0->sentence-transformers>=0.3.8->keybert) (3.0.7)\n",
            "Requirement already satisfied: zipp>=0.5 in /usr/local/lib/python3.7/dist-packages (from importlib-metadata->transformers<5.0.0,>=4.6.0->sentence-transformers>=0.3.8->keybert) (3.7.0)\n",
            "Requirement already satisfied: six in /usr/local/lib/python3.7/dist-packages (from nltk->sentence-transformers>=0.3.8->keybert) (1.15.0)\n",
            "Requirement already satisfied: chardet<4,>=3.0.2 in /usr/local/lib/python3.7/dist-packages (from requests->transformers<5.0.0,>=4.6.0->sentence-transformers>=0.3.8->keybert) (3.0.4)\n",
            "Requirement already satisfied: idna<3,>=2.5 in /usr/local/lib/python3.7/dist-packages (from requests->transformers<5.0.0,>=4.6.0->sentence-transformers>=0.3.8->keybert) (2.10)\n",
            "Requirement already satisfied: certifi>=2017.4.17 in /usr/local/lib/python3.7/dist-packages (from requests->transformers<5.0.0,>=4.6.0->sentence-transformers>=0.3.8->keybert) (2021.10.8)\n",
            "Requirement already satisfied: urllib3!=1.25.0,!=1.25.1,<1.26,>=1.21.1 in /usr/local/lib/python3.7/dist-packages (from requests->transformers<5.0.0,>=4.6.0->sentence-transformers>=0.3.8->keybert) (1.24.3)\n",
            "Requirement already satisfied: click in /usr/local/lib/python3.7/dist-packages (from sacremoses->transformers<5.0.0,>=4.6.0->sentence-transformers>=0.3.8->keybert) (7.1.2)\n",
            "Requirement already satisfied: pillow!=8.3.0,>=5.3.0 in /usr/local/lib/python3.7/dist-packages (from torchvision->sentence-transformers>=0.3.8->keybert) (7.1.2)\n",
            "Requirement already satisfied: bertopic in /usr/local/lib/python3.7/dist-packages (0.9.4)\n",
            "Requirement already satisfied: numpy>=1.20.0 in /usr/local/lib/python3.7/dist-packages (from bertopic) (1.21.5)\n",
            "Requirement already satisfied: sentence-transformers>=0.4.1 in /usr/local/lib/python3.7/dist-packages (from bertopic) (2.2.0)\n",
            "Requirement already satisfied: hdbscan>=0.8.27 in /usr/local/lib/python3.7/dist-packages (from bertopic) (0.8.28)\n",
            "Requirement already satisfied: pyyaml<6.0 in /usr/local/lib/python3.7/dist-packages (from bertopic) (5.4.1)\n",
            "Requirement already satisfied: umap-learn>=0.5.0 in /usr/local/lib/python3.7/dist-packages (from bertopic) (0.5.2)\n",
            "Requirement already satisfied: scikit-learn>=0.22.2.post1 in /usr/local/lib/python3.7/dist-packages (from bertopic) (1.0.2)\n",
            "Requirement already satisfied: tqdm>=4.41.1 in /usr/local/lib/python3.7/dist-packages (from bertopic) (4.63.0)\n",
            "Requirement already satisfied: pandas>=1.1.5 in /usr/local/lib/python3.7/dist-packages (from bertopic) (1.3.5)\n",
            "Requirement already satisfied: plotly>=4.7.0 in /usr/local/lib/python3.7/dist-packages (from bertopic) (5.5.0)\n",
            "Requirement already satisfied: scipy>=1.0 in /usr/local/lib/python3.7/dist-packages (from hdbscan>=0.8.27->bertopic) (1.4.1)\n",
            "Requirement already satisfied: cython>=0.27 in /usr/local/lib/python3.7/dist-packages (from hdbscan>=0.8.27->bertopic) (0.29.28)\n",
            "Requirement already satisfied: joblib>=1.0 in /usr/local/lib/python3.7/dist-packages (from hdbscan>=0.8.27->bertopic) (1.1.0)\n",
            "Requirement already satisfied: pytz>=2017.3 in /usr/local/lib/python3.7/dist-packages (from pandas>=1.1.5->bertopic) (2018.9)\n",
            "Requirement already satisfied: python-dateutil>=2.7.3 in /usr/local/lib/python3.7/dist-packages (from pandas>=1.1.5->bertopic) (2.8.2)\n",
            "Requirement already satisfied: six in /usr/local/lib/python3.7/dist-packages (from plotly>=4.7.0->bertopic) (1.15.0)\n",
            "Requirement already satisfied: tenacity>=6.2.0 in /usr/local/lib/python3.7/dist-packages (from plotly>=4.7.0->bertopic) (8.0.1)\n",
            "Requirement already satisfied: threadpoolctl>=2.0.0 in /usr/local/lib/python3.7/dist-packages (from scikit-learn>=0.22.2.post1->bertopic) (3.1.0)\n",
            "Requirement already satisfied: nltk in /usr/local/lib/python3.7/dist-packages (from sentence-transformers>=0.4.1->bertopic) (3.2.5)\n",
            "Requirement already satisfied: torch>=1.6.0 in /usr/local/lib/python3.7/dist-packages (from sentence-transformers>=0.4.1->bertopic) (1.10.0+cu111)\n",
            "Requirement already satisfied: huggingface-hub in /usr/local/lib/python3.7/dist-packages (from sentence-transformers>=0.4.1->bertopic) (0.4.0)\n",
            "Requirement already satisfied: transformers<5.0.0,>=4.6.0 in /usr/local/lib/python3.7/dist-packages (from sentence-transformers>=0.4.1->bertopic) (4.16.2)\n",
            "Requirement already satisfied: sentencepiece in /usr/local/lib/python3.7/dist-packages (from sentence-transformers>=0.4.1->bertopic) (0.1.96)\n",
            "Requirement already satisfied: torchvision in /usr/local/lib/python3.7/dist-packages (from sentence-transformers>=0.4.1->bertopic) (0.11.1+cu111)\n",
            "Requirement already satisfied: typing-extensions in /usr/local/lib/python3.7/dist-packages (from torch>=1.6.0->sentence-transformers>=0.4.1->bertopic) (3.10.0.2)\n",
            "Requirement already satisfied: filelock in /usr/local/lib/python3.7/dist-packages (from transformers<5.0.0,>=4.6.0->sentence-transformers>=0.4.1->bertopic) (3.6.0)\n",
            "Requirement already satisfied: requests in /usr/local/lib/python3.7/dist-packages (from transformers<5.0.0,>=4.6.0->sentence-transformers>=0.4.1->bertopic) (2.23.0)\n",
            "Requirement already satisfied: sacremoses in /usr/local/lib/python3.7/dist-packages (from transformers<5.0.0,>=4.6.0->sentence-transformers>=0.4.1->bertopic) (0.0.49)\n",
            "Requirement already satisfied: packaging>=20.0 in /usr/local/lib/python3.7/dist-packages (from transformers<5.0.0,>=4.6.0->sentence-transformers>=0.4.1->bertopic) (21.3)\n",
            "Requirement already satisfied: regex!=2019.12.17 in /usr/local/lib/python3.7/dist-packages (from transformers<5.0.0,>=4.6.0->sentence-transformers>=0.4.1->bertopic) (2019.12.20)\n",
            "Requirement already satisfied: importlib-metadata in /usr/local/lib/python3.7/dist-packages (from transformers<5.0.0,>=4.6.0->sentence-transformers>=0.4.1->bertopic) (4.11.3)\n",
            "Requirement already satisfied: tokenizers!=0.11.3,>=0.10.1 in /usr/local/lib/python3.7/dist-packages (from transformers<5.0.0,>=4.6.0->sentence-transformers>=0.4.1->bertopic) (0.11.6)\n",
            "Requirement already satisfied: pyparsing!=3.0.5,>=2.0.2 in /usr/local/lib/python3.7/dist-packages (from packaging>=20.0->transformers<5.0.0,>=4.6.0->sentence-transformers>=0.4.1->bertopic) (3.0.7)\n",
            "Requirement already satisfied: pynndescent>=0.5 in /usr/local/lib/python3.7/dist-packages (from umap-learn>=0.5.0->bertopic) (0.5.6)\n",
            "Requirement already satisfied: numba>=0.49 in /usr/local/lib/python3.7/dist-packages (from umap-learn>=0.5.0->bertopic) (0.51.2)\n",
            "Requirement already satisfied: llvmlite<0.35,>=0.34.0.dev0 in /usr/local/lib/python3.7/dist-packages (from numba>=0.49->umap-learn>=0.5.0->bertopic) (0.34.0)\n",
            "Requirement already satisfied: setuptools in /usr/local/lib/python3.7/dist-packages (from numba>=0.49->umap-learn>=0.5.0->bertopic) (59.5.0)\n",
            "Requirement already satisfied: zipp>=0.5 in /usr/local/lib/python3.7/dist-packages (from importlib-metadata->transformers<5.0.0,>=4.6.0->sentence-transformers>=0.4.1->bertopic) (3.7.0)\n",
            "Requirement already satisfied: urllib3!=1.25.0,!=1.25.1,<1.26,>=1.21.1 in /usr/local/lib/python3.7/dist-packages (from requests->transformers<5.0.0,>=4.6.0->sentence-transformers>=0.4.1->bertopic) (1.24.3)\n",
            "Requirement already satisfied: idna<3,>=2.5 in /usr/local/lib/python3.7/dist-packages (from requests->transformers<5.0.0,>=4.6.0->sentence-transformers>=0.4.1->bertopic) (2.10)\n",
            "Requirement already satisfied: chardet<4,>=3.0.2 in /usr/local/lib/python3.7/dist-packages (from requests->transformers<5.0.0,>=4.6.0->sentence-transformers>=0.4.1->bertopic) (3.0.4)\n",
            "Requirement already satisfied: certifi>=2017.4.17 in /usr/local/lib/python3.7/dist-packages (from requests->transformers<5.0.0,>=4.6.0->sentence-transformers>=0.4.1->bertopic) (2021.10.8)\n",
            "Requirement already satisfied: click in /usr/local/lib/python3.7/dist-packages (from sacremoses->transformers<5.0.0,>=4.6.0->sentence-transformers>=0.4.1->bertopic) (7.1.2)\n",
            "Requirement already satisfied: pillow!=8.3.0,>=5.3.0 in /usr/local/lib/python3.7/dist-packages (from torchvision->sentence-transformers>=0.4.1->bertopic) (7.1.2)\n",
            "Requirement already satisfied: simplet5 in /usr/local/lib/python3.7/dist-packages (0.1.4)\n",
            "Requirement already satisfied: transformers==4.16.2 in /usr/local/lib/python3.7/dist-packages (from simplet5) (4.16.2)\n",
            "Requirement already satisfied: sentencepiece in /usr/local/lib/python3.7/dist-packages (from simplet5) (0.1.96)\n",
            "Requirement already satisfied: pytorch-lightning==1.5.10 in /usr/local/lib/python3.7/dist-packages (from simplet5) (1.5.10)\n",
            "Requirement already satisfied: numpy in /usr/local/lib/python3.7/dist-packages (from simplet5) (1.21.5)\n",
            "Requirement already satisfied: torch!=1.8.0,>=1.7.0 in /usr/local/lib/python3.7/dist-packages (from simplet5) (1.10.0+cu111)\n",
            "Requirement already satisfied: pandas in /usr/local/lib/python3.7/dist-packages (from simplet5) (1.3.5)\n",
            "Requirement already satisfied: packaging>=17.0 in /usr/local/lib/python3.7/dist-packages (from pytorch-lightning==1.5.10->simplet5) (21.3)\n",
            "Requirement already satisfied: tqdm>=4.41.0 in /usr/local/lib/python3.7/dist-packages (from pytorch-lightning==1.5.10->simplet5) (4.63.0)\n",
            "Requirement already satisfied: PyYAML>=5.1 in /usr/local/lib/python3.7/dist-packages (from pytorch-lightning==1.5.10->simplet5) (5.4.1)\n",
            "Requirement already satisfied: typing-extensions in /usr/local/lib/python3.7/dist-packages (from pytorch-lightning==1.5.10->simplet5) (3.10.0.2)\n",
            "Requirement already satisfied: fsspec[http]!=2021.06.0,>=2021.05.0 in /usr/local/lib/python3.7/dist-packages (from pytorch-lightning==1.5.10->simplet5) (2022.2.0)\n",
            "Requirement already satisfied: pyDeprecate==0.3.1 in /usr/local/lib/python3.7/dist-packages (from pytorch-lightning==1.5.10->simplet5) (0.3.1)\n",
            "Requirement already satisfied: torchmetrics>=0.4.1 in /usr/local/lib/python3.7/dist-packages (from pytorch-lightning==1.5.10->simplet5) (0.7.3)\n",
            "Requirement already satisfied: setuptools==59.5.0 in /usr/local/lib/python3.7/dist-packages (from pytorch-lightning==1.5.10->simplet5) (59.5.0)\n",
            "Requirement already satisfied: tensorboard>=2.2.0 in /usr/local/lib/python3.7/dist-packages (from pytorch-lightning==1.5.10->simplet5) (2.8.0)\n",
            "Requirement already satisfied: future>=0.17.1 in /usr/local/lib/python3.7/dist-packages (from pytorch-lightning==1.5.10->simplet5) (0.18.2)\n",
            "Requirement already satisfied: sacremoses in /usr/local/lib/python3.7/dist-packages (from transformers==4.16.2->simplet5) (0.0.49)\n",
            "Requirement already satisfied: importlib-metadata in /usr/local/lib/python3.7/dist-packages (from transformers==4.16.2->simplet5) (4.11.3)\n",
            "Requirement already satisfied: huggingface-hub<1.0,>=0.1.0 in /usr/local/lib/python3.7/dist-packages (from transformers==4.16.2->simplet5) (0.4.0)\n",
            "Requirement already satisfied: filelock in /usr/local/lib/python3.7/dist-packages (from transformers==4.16.2->simplet5) (3.6.0)\n",
            "Requirement already satisfied: requests in /usr/local/lib/python3.7/dist-packages (from transformers==4.16.2->simplet5) (2.23.0)\n",
            "Requirement already satisfied: regex!=2019.12.17 in /usr/local/lib/python3.7/dist-packages (from transformers==4.16.2->simplet5) (2019.12.20)\n",
            "Requirement already satisfied: tokenizers!=0.11.3,>=0.10.1 in /usr/local/lib/python3.7/dist-packages (from transformers==4.16.2->simplet5) (0.11.6)\n",
            "Requirement already satisfied: aiohttp in /usr/local/lib/python3.7/dist-packages (from fsspec[http]!=2021.06.0,>=2021.05.0->pytorch-lightning==1.5.10->simplet5) (3.8.1)\n",
            "Requirement already satisfied: pyparsing!=3.0.5,>=2.0.2 in /usr/local/lib/python3.7/dist-packages (from packaging>=17.0->pytorch-lightning==1.5.10->simplet5) (3.0.7)\n",
            "Requirement already satisfied: google-auth-oauthlib<0.5,>=0.4.1 in /usr/local/lib/python3.7/dist-packages (from tensorboard>=2.2.0->pytorch-lightning==1.5.10->simplet5) (0.4.6)\n",
            "Requirement already satisfied: google-auth<3,>=1.6.3 in /usr/local/lib/python3.7/dist-packages (from tensorboard>=2.2.0->pytorch-lightning==1.5.10->simplet5) (1.35.0)\n",
            "Requirement already satisfied: markdown>=2.6.8 in /usr/local/lib/python3.7/dist-packages (from tensorboard>=2.2.0->pytorch-lightning==1.5.10->simplet5) (3.3.6)\n",
            "Requirement already satisfied: grpcio>=1.24.3 in /usr/local/lib/python3.7/dist-packages (from tensorboard>=2.2.0->pytorch-lightning==1.5.10->simplet5) (1.44.0)\n",
            "Requirement already satisfied: werkzeug>=0.11.15 in /usr/local/lib/python3.7/dist-packages (from tensorboard>=2.2.0->pytorch-lightning==1.5.10->simplet5) (1.0.1)\n",
            "Requirement already satisfied: wheel>=0.26 in /usr/local/lib/python3.7/dist-packages (from tensorboard>=2.2.0->pytorch-lightning==1.5.10->simplet5) (0.37.1)\n",
            "Requirement already satisfied: tensorboard-data-server<0.7.0,>=0.6.0 in /usr/local/lib/python3.7/dist-packages (from tensorboard>=2.2.0->pytorch-lightning==1.5.10->simplet5) (0.6.1)\n",
            "Requirement already satisfied: protobuf>=3.6.0 in /usr/local/lib/python3.7/dist-packages (from tensorboard>=2.2.0->pytorch-lightning==1.5.10->simplet5) (3.17.3)\n",
            "Requirement already satisfied: tensorboard-plugin-wit>=1.6.0 in /usr/local/lib/python3.7/dist-packages (from tensorboard>=2.2.0->pytorch-lightning==1.5.10->simplet5) (1.8.1)\n",
            "Requirement already satisfied: absl-py>=0.4 in /usr/local/lib/python3.7/dist-packages (from tensorboard>=2.2.0->pytorch-lightning==1.5.10->simplet5) (1.0.0)\n",
            "Requirement already satisfied: six in /usr/local/lib/python3.7/dist-packages (from absl-py>=0.4->tensorboard>=2.2.0->pytorch-lightning==1.5.10->simplet5) (1.15.0)\n",
            "Requirement already satisfied: rsa<5,>=3.1.4 in /usr/local/lib/python3.7/dist-packages (from google-auth<3,>=1.6.3->tensorboard>=2.2.0->pytorch-lightning==1.5.10->simplet5) (4.8)\n",
            "Requirement already satisfied: pyasn1-modules>=0.2.1 in /usr/local/lib/python3.7/dist-packages (from google-auth<3,>=1.6.3->tensorboard>=2.2.0->pytorch-lightning==1.5.10->simplet5) (0.2.8)\n",
            "Requirement already satisfied: cachetools<5.0,>=2.0.0 in /usr/local/lib/python3.7/dist-packages (from google-auth<3,>=1.6.3->tensorboard>=2.2.0->pytorch-lightning==1.5.10->simplet5) (4.2.4)\n",
            "Requirement already satisfied: requests-oauthlib>=0.7.0 in /usr/local/lib/python3.7/dist-packages (from google-auth-oauthlib<0.5,>=0.4.1->tensorboard>=2.2.0->pytorch-lightning==1.5.10->simplet5) (1.3.1)\n",
            "Requirement already satisfied: zipp>=0.5 in /usr/local/lib/python3.7/dist-packages (from importlib-metadata->transformers==4.16.2->simplet5) (3.7.0)\n",
            "Requirement already satisfied: pyasn1<0.5.0,>=0.4.6 in /usr/local/lib/python3.7/dist-packages (from pyasn1-modules>=0.2.1->google-auth<3,>=1.6.3->tensorboard>=2.2.0->pytorch-lightning==1.5.10->simplet5) (0.4.8)\n",
            "Requirement already satisfied: chardet<4,>=3.0.2 in /usr/local/lib/python3.7/dist-packages (from requests->transformers==4.16.2->simplet5) (3.0.4)\n",
            "Requirement already satisfied: urllib3!=1.25.0,!=1.25.1,<1.26,>=1.21.1 in /usr/local/lib/python3.7/dist-packages (from requests->transformers==4.16.2->simplet5) (1.24.3)\n",
            "Requirement already satisfied: certifi>=2017.4.17 in /usr/local/lib/python3.7/dist-packages (from requests->transformers==4.16.2->simplet5) (2021.10.8)\n",
            "Requirement already satisfied: idna<3,>=2.5 in /usr/local/lib/python3.7/dist-packages (from requests->transformers==4.16.2->simplet5) (2.10)\n",
            "Requirement already satisfied: oauthlib>=3.0.0 in /usr/local/lib/python3.7/dist-packages (from requests-oauthlib>=0.7.0->google-auth-oauthlib<0.5,>=0.4.1->tensorboard>=2.2.0->pytorch-lightning==1.5.10->simplet5) (3.2.0)\n",
            "Requirement already satisfied: asynctest==0.13.0 in /usr/local/lib/python3.7/dist-packages (from aiohttp->fsspec[http]!=2021.06.0,>=2021.05.0->pytorch-lightning==1.5.10->simplet5) (0.13.0)\n",
            "Requirement already satisfied: yarl<2.0,>=1.0 in /usr/local/lib/python3.7/dist-packages (from aiohttp->fsspec[http]!=2021.06.0,>=2021.05.0->pytorch-lightning==1.5.10->simplet5) (1.7.2)\n",
            "Requirement already satisfied: async-timeout<5.0,>=4.0.0a3 in /usr/local/lib/python3.7/dist-packages (from aiohttp->fsspec[http]!=2021.06.0,>=2021.05.0->pytorch-lightning==1.5.10->simplet5) (4.0.2)\n",
            "Requirement already satisfied: aiosignal>=1.1.2 in /usr/local/lib/python3.7/dist-packages (from aiohttp->fsspec[http]!=2021.06.0,>=2021.05.0->pytorch-lightning==1.5.10->simplet5) (1.2.0)\n",
            "Requirement already satisfied: frozenlist>=1.1.1 in /usr/local/lib/python3.7/dist-packages (from aiohttp->fsspec[http]!=2021.06.0,>=2021.05.0->pytorch-lightning==1.5.10->simplet5) (1.3.0)\n",
            "Requirement already satisfied: multidict<7.0,>=4.5 in /usr/local/lib/python3.7/dist-packages (from aiohttp->fsspec[http]!=2021.06.0,>=2021.05.0->pytorch-lightning==1.5.10->simplet5) (6.0.2)\n",
            "Requirement already satisfied: charset-normalizer<3.0,>=2.0 in /usr/local/lib/python3.7/dist-packages (from aiohttp->fsspec[http]!=2021.06.0,>=2021.05.0->pytorch-lightning==1.5.10->simplet5) (2.0.12)\n",
            "Requirement already satisfied: attrs>=17.3.0 in /usr/local/lib/python3.7/dist-packages (from aiohttp->fsspec[http]!=2021.06.0,>=2021.05.0->pytorch-lightning==1.5.10->simplet5) (21.4.0)\n",
            "Requirement already satisfied: pytz>=2017.3 in /usr/local/lib/python3.7/dist-packages (from pandas->simplet5) (2018.9)\n",
            "Requirement already satisfied: python-dateutil>=2.7.3 in /usr/local/lib/python3.7/dist-packages (from pandas->simplet5) (2.8.2)\n",
            "Requirement already satisfied: joblib in /usr/local/lib/python3.7/dist-packages (from sacremoses->transformers==4.16.2->simplet5) (1.1.0)\n",
            "Requirement already satisfied: click in /usr/local/lib/python3.7/dist-packages (from sacremoses->transformers==4.16.2->simplet5) (7.1.2)\n"
          ]
        }
      ]
    },
    {
      "cell_type": "code",
      "source": [
        "nltk.download('punkt')"
      ],
      "metadata": {
        "colab": {
          "base_uri": "https://localhost:8080/"
        },
        "id": "v3lTt8G-uSnR",
        "outputId": "e767d63d-896d-45c4-e87b-0113b2f50f64"
      },
      "execution_count": 56,
      "outputs": [
        {
          "output_type": "stream",
          "name": "stdout",
          "text": [
            "[nltk_data] Downloading package punkt to /root/nltk_data...\n",
            "[nltk_data]   Package punkt is already up-to-date!\n"
          ]
        },
        {
          "output_type": "execute_result",
          "data": {
            "text/plain": [
              "True"
            ]
          },
          "metadata": {},
          "execution_count": 56
        }
      ]
    },
    {
      "cell_type": "markdown",
      "source": [
        "Fetch the data from predefined corpus"
      ],
      "metadata": {
        "id": "eKjP9su2rRz9"
      }
    },
    {
      "cell_type": "code",
      "source": [
        "docs = fetch_20newsgroups(subset='all',  remove=('headers', 'footers', 'quotes'))['data']"
      ],
      "metadata": {
        "id": "eqVamrSZbpbT"
      },
      "execution_count": 57,
      "outputs": []
    },
    {
      "cell_type": "markdown",
      "source": [
        "**docs[0] is our input text for rest of the implementation**"
      ],
      "metadata": {
        "id": "xl6rmC8n10FH"
      }
    },
    {
      "cell_type": "code",
      "source": [
        "input_text = docs[0]\n",
        "print(input_text)"
      ],
      "metadata": {
        "colab": {
          "base_uri": "https://localhost:8080/"
        },
        "id": "NJqAsaHfbsbq",
        "outputId": "65e7c1cd-87f3-4f30-c78c-bc424b536ae7"
      },
      "execution_count": 58,
      "outputs": [
        {
          "output_type": "stream",
          "name": "stdout",
          "text": [
            "\n",
            "\n",
            "I am sure some bashers of Pens fans are pretty confused about the lack\n",
            "of any kind of posts about the recent Pens massacre of the Devils. Actually,\n",
            "I am  bit puzzled too and a bit relieved. However, I am going to put an end\n",
            "to non-PIttsburghers' relief with a bit of praise for the Pens. Man, they\n",
            "are killing those Devils worse than I thought. Jagr just showed you why\n",
            "he is much better than his regular season stats. He is also a lot\n",
            "fo fun to watch in the playoffs. Bowman should let JAgr have a lot of\n",
            "fun in the next couple of games since the Pens are going to beat the pulp out of Jersey anyway. I was very disappointed not to see the Islanders lose the final\n",
            "regular season game.          PENS RULE!!!\n",
            "\n",
            "\n"
          ]
        }
      ]
    },
    {
      "cell_type": "markdown",
      "source": [
        "**Keywords Extraction**"
      ],
      "metadata": {
        "id": "n4juR26s28KB"
      }
    },
    {
      "cell_type": "code",
      "source": [
        "model_keyBert = KeyBERT('distilbert-base-nli-mean-tokens')"
      ],
      "metadata": {
        "id": "Edm_tD0StQlQ"
      },
      "execution_count": 59,
      "outputs": []
    },
    {
      "cell_type": "code",
      "source": [
        "keywords = model_keyBert.extract_keywords(input_text, highlight = True)"
      ],
      "metadata": {
        "colab": {
          "base_uri": "https://localhost:8080/",
          "height": 153
        },
        "id": "tHpwjtr1b8GW",
        "outputId": "f6deb8dc-3dbe-463e-c8f7-972a7bceb7cc"
      },
      "execution_count": 60,
      "outputs": [
        {
          "output_type": "display_data",
          "data": {
            "text/plain": [
              "I am sure some \u001b[30;48;2;255;255;0mbashers\u001b[0m of Pens fans are pretty confused about the lack of any kind of posts \n",
              "about the recent Pens \u001b[30;48;2;255;255;0mmassacre\u001b[0m of the Devils. Actually, I am bit puzzled too and a bit \n",
              "relieved. However, I am going to put an end to non-PIttsburghers' relief with a bit of praise\n",
              "for the Pens. Man, they are \u001b[30;48;2;255;255;0mkilling\u001b[0m those \u001b[30;48;2;255;255;0mDevils\u001b[0m worse than I thought. Jagr just showed you \n",
              "why he is much better than his regular season stats. He is also a lot fo fun to watch in the \n",
              "playoffs. Bowman should let JAgr have a lot of fun in the next couple of games since the Pens\n",
              "are going to beat the pulp out of Jersey anyway. I was very disappointed not to see the \n",
              "Islanders lose the final regular season game. PENS RULE!!!\n"
            ],
            "text/html": [
              "<pre style=\"white-space:pre;overflow-x:auto;line-height:normal;font-family:Menlo,'DejaVu Sans Mono',consolas,'Courier New',monospace\">I am sure some <span style=\"color: #000000; text-decoration-color: #000000; background-color: #ffff00\">bashers</span> of Pens fans are pretty confused about the lack of any kind of posts \n",
              "about the recent Pens <span style=\"color: #000000; text-decoration-color: #000000; background-color: #ffff00\">massacre</span> of the Devils. Actually, I am bit puzzled too and a bit \n",
              "relieved. However, I am going to put an end to non-PIttsburghers' relief with a bit of praise\n",
              "for the Pens. Man, they are <span style=\"color: #000000; text-decoration-color: #000000; background-color: #ffff00\">killing</span> those <span style=\"color: #000000; text-decoration-color: #000000; background-color: #ffff00\">Devils</span> worse than I thought. Jagr just showed you \n",
              "why he is much better than his regular season stats. He is also a lot fo fun to watch in the \n",
              "playoffs. Bowman should let JAgr have a lot of fun in the next couple of games since the Pens\n",
              "are going to beat the pulp out of Jersey anyway. I was very disappointed not to see the \n",
              "Islanders lose the final regular season game. PENS RULE!!!\n",
              "</pre>\n"
            ]
          },
          "metadata": {}
        }
      ]
    },
    {
      "cell_type": "code",
      "source": [
        "keywords"
      ],
      "metadata": {
        "colab": {
          "base_uri": "https://localhost:8080/"
        },
        "id": "pT860tP5b_ed",
        "outputId": "aea30a53-08ea-41a0-e868-4fd884150a91"
      },
      "execution_count": 61,
      "outputs": [
        {
          "output_type": "execute_result",
          "data": {
            "text/plain": [
              "[('killing', 0.1001),\n",
              " ('playoffs', 0.0917),\n",
              " ('devils', 0.0917),\n",
              " ('massacre', 0.0858),\n",
              " ('bashers', 0.0443)]"
            ]
          },
          "metadata": {},
          "execution_count": 61
        }
      ]
    },
    {
      "cell_type": "code",
      "source": [
        "keyword_items = list(map(lambda x:x[0], keywords))\n",
        "print(keyword_items)"
      ],
      "metadata": {
        "colab": {
          "base_uri": "https://localhost:8080/"
        },
        "id": "kH0HkvlwoKAP",
        "outputId": "a9b4167d-ecb5-4c3d-9af5-24246fd63c78"
      },
      "execution_count": 62,
      "outputs": [
        {
          "output_type": "stream",
          "name": "stdout",
          "text": [
            "['killing', 'playoffs', 'devils', 'massacre', 'bashers']\n"
          ]
        }
      ]
    },
    {
      "cell_type": "markdown",
      "source": [
        "**Abstractive Summarization**"
      ],
      "metadata": {
        "id": "qyt3QF1Z3Qav"
      }
    },
    {
      "cell_type": "code",
      "source": [
        "!pip install transformers"
      ],
      "metadata": {
        "colab": {
          "base_uri": "https://localhost:8080/"
        },
        "id": "4fPnsEO43PTC",
        "outputId": "c232b699-4ea1-4763-870e-c38d88b1ad43"
      },
      "execution_count": 63,
      "outputs": [
        {
          "output_type": "stream",
          "name": "stdout",
          "text": [
            "Requirement already satisfied: transformers in /usr/local/lib/python3.7/dist-packages (4.16.2)\n",
            "Requirement already satisfied: huggingface-hub<1.0,>=0.1.0 in /usr/local/lib/python3.7/dist-packages (from transformers) (0.4.0)\n",
            "Requirement already satisfied: packaging>=20.0 in /usr/local/lib/python3.7/dist-packages (from transformers) (21.3)\n",
            "Requirement already satisfied: regex!=2019.12.17 in /usr/local/lib/python3.7/dist-packages (from transformers) (2019.12.20)\n",
            "Requirement already satisfied: requests in /usr/local/lib/python3.7/dist-packages (from transformers) (2.23.0)\n",
            "Requirement already satisfied: sacremoses in /usr/local/lib/python3.7/dist-packages (from transformers) (0.0.49)\n",
            "Requirement already satisfied: importlib-metadata in /usr/local/lib/python3.7/dist-packages (from transformers) (4.11.3)\n",
            "Requirement already satisfied: filelock in /usr/local/lib/python3.7/dist-packages (from transformers) (3.6.0)\n",
            "Requirement already satisfied: tqdm>=4.27 in /usr/local/lib/python3.7/dist-packages (from transformers) (4.63.0)\n",
            "Requirement already satisfied: pyyaml>=5.1 in /usr/local/lib/python3.7/dist-packages (from transformers) (5.4.1)\n",
            "Requirement already satisfied: numpy>=1.17 in /usr/local/lib/python3.7/dist-packages (from transformers) (1.21.5)\n",
            "Requirement already satisfied: tokenizers!=0.11.3,>=0.10.1 in /usr/local/lib/python3.7/dist-packages (from transformers) (0.11.6)\n",
            "Requirement already satisfied: typing-extensions>=3.7.4.3 in /usr/local/lib/python3.7/dist-packages (from huggingface-hub<1.0,>=0.1.0->transformers) (3.10.0.2)\n",
            "Requirement already satisfied: pyparsing!=3.0.5,>=2.0.2 in /usr/local/lib/python3.7/dist-packages (from packaging>=20.0->transformers) (3.0.7)\n",
            "Requirement already satisfied: zipp>=0.5 in /usr/local/lib/python3.7/dist-packages (from importlib-metadata->transformers) (3.7.0)\n",
            "Requirement already satisfied: certifi>=2017.4.17 in /usr/local/lib/python3.7/dist-packages (from requests->transformers) (2021.10.8)\n",
            "Requirement already satisfied: chardet<4,>=3.0.2 in /usr/local/lib/python3.7/dist-packages (from requests->transformers) (3.0.4)\n",
            "Requirement already satisfied: idna<3,>=2.5 in /usr/local/lib/python3.7/dist-packages (from requests->transformers) (2.10)\n",
            "Requirement already satisfied: urllib3!=1.25.0,!=1.25.1,<1.26,>=1.21.1 in /usr/local/lib/python3.7/dist-packages (from requests->transformers) (1.24.3)\n",
            "Requirement already satisfied: click in /usr/local/lib/python3.7/dist-packages (from sacremoses->transformers) (7.1.2)\n",
            "Requirement already satisfied: joblib in /usr/local/lib/python3.7/dist-packages (from sacremoses->transformers) (1.1.0)\n",
            "Requirement already satisfied: six in /usr/local/lib/python3.7/dist-packages (from sacremoses->transformers) (1.15.0)\n"
          ]
        }
      ]
    },
    {
      "cell_type": "code",
      "source": [
        "from transformers import pipeline\n",
        "summarizer = pipeline(\"summarization\", model=\"t5-base\", tokenizer=\"t5-base\")\n",
        "summarizer(input_text, min_length=5, max_length=100)"
      ],
      "metadata": {
        "colab": {
          "base_uri": "https://localhost:8080/"
        },
        "id": "c7c_pXjn3XOP",
        "outputId": "263dac2e-1e5d-4cbc-dd06-f8b9113397c8"
      },
      "execution_count": 64,
      "outputs": [
        {
          "output_type": "execute_result",
          "data": {
            "text/plain": [
              "[{'summary_text': \"mike downey: some pens fans are puzzled about lack of posts about recent massacre . he says the pens are killing the Devils worse than i thought . downee: i am going to put an end to non-PIttsburghers' relief with praise for the Pens .\"}]"
            ]
          },
          "metadata": {},
          "execution_count": 64
        }
      ]
    },
    {
      "cell_type": "code",
      "source": [
        "Abs_summ = summarizer(input_text, min_length=5, max_length=100)\n",
        "Abs_summ"
      ],
      "metadata": {
        "colab": {
          "base_uri": "https://localhost:8080/"
        },
        "id": "P6AB3Z4a4SmW",
        "outputId": "6358ea20-917e-446e-e26a-2a1cfd48967a"
      },
      "execution_count": 65,
      "outputs": [
        {
          "output_type": "execute_result",
          "data": {
            "text/plain": [
              "[{'summary_text': \"mike downey: some pens fans are puzzled about lack of posts about recent massacre . he says the pens are killing the Devils worse than i thought . downee: i am going to put an end to non-PIttsburghers' relief with praise for the Pens .\"}]"
            ]
          },
          "metadata": {},
          "execution_count": 65
        }
      ]
    },
    {
      "cell_type": "markdown",
      "source": [
        "**Extractive summarizer**"
      ],
      "metadata": {
        "id": "C_uiYytT4Oe6"
      }
    },
    {
      "cell_type": "code",
      "source": [
        "!pip install bert-extractive-summarizer"
      ],
      "metadata": {
        "colab": {
          "base_uri": "https://localhost:8080/"
        },
        "id": "Htg7meZu3XRH",
        "outputId": "2183cdc2-a11b-475c-f382-27a96d57e231"
      },
      "execution_count": 66,
      "outputs": [
        {
          "output_type": "stream",
          "name": "stdout",
          "text": [
            "Requirement already satisfied: bert-extractive-summarizer in /usr/local/lib/python3.7/dist-packages (0.10.1)\n",
            "Requirement already satisfied: transformers in /usr/local/lib/python3.7/dist-packages (from bert-extractive-summarizer) (4.16.2)\n",
            "Requirement already satisfied: spacy in /usr/local/lib/python3.7/dist-packages (from bert-extractive-summarizer) (2.2.4)\n",
            "Requirement already satisfied: scikit-learn in /usr/local/lib/python3.7/dist-packages (from bert-extractive-summarizer) (1.0.2)\n",
            "Requirement already satisfied: joblib>=0.11 in /usr/local/lib/python3.7/dist-packages (from scikit-learn->bert-extractive-summarizer) (1.1.0)\n",
            "Requirement already satisfied: scipy>=1.1.0 in /usr/local/lib/python3.7/dist-packages (from scikit-learn->bert-extractive-summarizer) (1.4.1)\n",
            "Requirement already satisfied: numpy>=1.14.6 in /usr/local/lib/python3.7/dist-packages (from scikit-learn->bert-extractive-summarizer) (1.21.5)\n",
            "Requirement already satisfied: threadpoolctl>=2.0.0 in /usr/local/lib/python3.7/dist-packages (from scikit-learn->bert-extractive-summarizer) (3.1.0)\n",
            "Requirement already satisfied: setuptools in /usr/local/lib/python3.7/dist-packages (from spacy->bert-extractive-summarizer) (59.5.0)\n",
            "Requirement already satisfied: srsly<1.1.0,>=1.0.2 in /usr/local/lib/python3.7/dist-packages (from spacy->bert-extractive-summarizer) (1.0.5)\n",
            "Requirement already satisfied: preshed<3.1.0,>=3.0.2 in /usr/local/lib/python3.7/dist-packages (from spacy->bert-extractive-summarizer) (3.0.6)\n",
            "Requirement already satisfied: requests<3.0.0,>=2.13.0 in /usr/local/lib/python3.7/dist-packages (from spacy->bert-extractive-summarizer) (2.23.0)\n",
            "Requirement already satisfied: wasabi<1.1.0,>=0.4.0 in /usr/local/lib/python3.7/dist-packages (from spacy->bert-extractive-summarizer) (0.9.0)\n",
            "Requirement already satisfied: blis<0.5.0,>=0.4.0 in /usr/local/lib/python3.7/dist-packages (from spacy->bert-extractive-summarizer) (0.4.1)\n",
            "Requirement already satisfied: plac<1.2.0,>=0.9.6 in /usr/local/lib/python3.7/dist-packages (from spacy->bert-extractive-summarizer) (1.1.3)\n",
            "Requirement already satisfied: thinc==7.4.0 in /usr/local/lib/python3.7/dist-packages (from spacy->bert-extractive-summarizer) (7.4.0)\n",
            "Requirement already satisfied: murmurhash<1.1.0,>=0.28.0 in /usr/local/lib/python3.7/dist-packages (from spacy->bert-extractive-summarizer) (1.0.6)\n",
            "Requirement already satisfied: catalogue<1.1.0,>=0.0.7 in /usr/local/lib/python3.7/dist-packages (from spacy->bert-extractive-summarizer) (1.0.0)\n",
            "Requirement already satisfied: cymem<2.1.0,>=2.0.2 in /usr/local/lib/python3.7/dist-packages (from spacy->bert-extractive-summarizer) (2.0.6)\n",
            "Requirement already satisfied: tqdm<5.0.0,>=4.38.0 in /usr/local/lib/python3.7/dist-packages (from spacy->bert-extractive-summarizer) (4.63.0)\n",
            "Requirement already satisfied: importlib-metadata>=0.20 in /usr/local/lib/python3.7/dist-packages (from catalogue<1.1.0,>=0.0.7->spacy->bert-extractive-summarizer) (4.11.3)\n",
            "Requirement already satisfied: zipp>=0.5 in /usr/local/lib/python3.7/dist-packages (from importlib-metadata>=0.20->catalogue<1.1.0,>=0.0.7->spacy->bert-extractive-summarizer) (3.7.0)\n",
            "Requirement already satisfied: typing-extensions>=3.6.4 in /usr/local/lib/python3.7/dist-packages (from importlib-metadata>=0.20->catalogue<1.1.0,>=0.0.7->spacy->bert-extractive-summarizer) (3.10.0.2)\n",
            "Requirement already satisfied: idna<3,>=2.5 in /usr/local/lib/python3.7/dist-packages (from requests<3.0.0,>=2.13.0->spacy->bert-extractive-summarizer) (2.10)\n",
            "Requirement already satisfied: certifi>=2017.4.17 in /usr/local/lib/python3.7/dist-packages (from requests<3.0.0,>=2.13.0->spacy->bert-extractive-summarizer) (2021.10.8)\n",
            "Requirement already satisfied: chardet<4,>=3.0.2 in /usr/local/lib/python3.7/dist-packages (from requests<3.0.0,>=2.13.0->spacy->bert-extractive-summarizer) (3.0.4)\n",
            "Requirement already satisfied: urllib3!=1.25.0,!=1.25.1,<1.26,>=1.21.1 in /usr/local/lib/python3.7/dist-packages (from requests<3.0.0,>=2.13.0->spacy->bert-extractive-summarizer) (1.24.3)\n",
            "Requirement already satisfied: regex!=2019.12.17 in /usr/local/lib/python3.7/dist-packages (from transformers->bert-extractive-summarizer) (2019.12.20)\n",
            "Requirement already satisfied: tokenizers!=0.11.3,>=0.10.1 in /usr/local/lib/python3.7/dist-packages (from transformers->bert-extractive-summarizer) (0.11.6)\n",
            "Requirement already satisfied: huggingface-hub<1.0,>=0.1.0 in /usr/local/lib/python3.7/dist-packages (from transformers->bert-extractive-summarizer) (0.4.0)\n",
            "Requirement already satisfied: packaging>=20.0 in /usr/local/lib/python3.7/dist-packages (from transformers->bert-extractive-summarizer) (21.3)\n",
            "Requirement already satisfied: filelock in /usr/local/lib/python3.7/dist-packages (from transformers->bert-extractive-summarizer) (3.6.0)\n",
            "Requirement already satisfied: sacremoses in /usr/local/lib/python3.7/dist-packages (from transformers->bert-extractive-summarizer) (0.0.49)\n",
            "Requirement already satisfied: pyyaml>=5.1 in /usr/local/lib/python3.7/dist-packages (from transformers->bert-extractive-summarizer) (5.4.1)\n",
            "Requirement already satisfied: pyparsing!=3.0.5,>=2.0.2 in /usr/local/lib/python3.7/dist-packages (from packaging>=20.0->transformers->bert-extractive-summarizer) (3.0.7)\n",
            "Requirement already satisfied: click in /usr/local/lib/python3.7/dist-packages (from sacremoses->transformers->bert-extractive-summarizer) (7.1.2)\n",
            "Requirement already satisfied: six in /usr/local/lib/python3.7/dist-packages (from sacremoses->transformers->bert-extractive-summarizer) (1.15.0)\n"
          ]
        }
      ]
    },
    {
      "cell_type": "code",
      "source": [
        "from summarizer import Summarizer\n",
        "body = input_text\n",
        "model = Summarizer()\n",
        "result1 = model.run_embeddings(body, ratio=0.2)  # Specified with ratio. \n",
        "result2 = model.run_embeddings(body, num_sentences=3)  # Will return (3, N) embedding numpy matrix.\n",
        "result3 = model.run_embeddings(body, num_sentences=3, aggregate='mean')  # Will return Mean aggregate over embeddings. \n",
        "result1,result2,result3"
      ],
      "metadata": {
        "colab": {
          "base_uri": "https://localhost:8080/"
        },
        "id": "GOe65VIm3XTs",
        "outputId": "34a80903-dc24-472e-8978-f9165ad62588"
      },
      "execution_count": 67,
      "outputs": [
        {
          "output_type": "stream",
          "name": "stderr",
          "text": [
            "Some weights of the model checkpoint at bert-large-uncased were not used when initializing BertModel: ['cls.predictions.decoder.weight', 'cls.predictions.bias', 'cls.predictions.transform.dense.weight', 'cls.predictions.transform.LayerNorm.bias', 'cls.predictions.transform.LayerNorm.weight', 'cls.seq_relationship.weight', 'cls.predictions.transform.dense.bias', 'cls.seq_relationship.bias']\n",
            "- This IS expected if you are initializing BertModel from the checkpoint of a model trained on another task or with another architecture (e.g. initializing a BertForSequenceClassification model from a BertForPreTraining model).\n",
            "- This IS NOT expected if you are initializing BertModel from the checkpoint of a model that you expect to be exactly identical (initializing a BertForSequenceClassification model from a BertForSequenceClassification model).\n"
          ]
        },
        {
          "output_type": "execute_result",
          "data": {
            "text/plain": [
              "(array([[-0.16550298, -0.43937498, -0.496167  , ..., -0.30777082,\n",
              "          0.6834121 , -0.0481769 ],\n",
              "        [-0.13165128, -0.5110878 , -0.40450478, ..., -0.40772933,\n",
              "          0.2574005 ,  0.12032402]], dtype=float32),\n",
              " array([[-0.16550298, -0.43937498, -0.496167  , ..., -0.30777082,\n",
              "          0.6834121 , -0.0481769 ],\n",
              "        [-1.1733667 , -1.1871829 , -0.32441446, ...,  0.08517452,\n",
              "          0.8798207 ,  0.58078945],\n",
              "        [-0.13165128, -0.5110878 , -0.40450478, ..., -0.40772933,\n",
              "          0.2574005 ,  0.12032402]], dtype=float32),\n",
              " array([-0.49017367, -0.71254855, -0.40836206, ..., -0.21010853,\n",
              "         0.60687774,  0.21764553], dtype=float32))"
            ]
          },
          "metadata": {},
          "execution_count": 67
        }
      ]
    },
    {
      "cell_type": "code",
      "source": [
        "result = model(body, min_length=60)\n",
        "full = ''.join(result)\n",
        "print(full)"
      ],
      "metadata": {
        "colab": {
          "base_uri": "https://localhost:8080/"
        },
        "id": "PpAy8g1z3XWB",
        "outputId": "10f81cc2-80d0-469c-ce75-4f54472cb827"
      },
      "execution_count": 68,
      "outputs": [
        {
          "output_type": "stream",
          "name": "stdout",
          "text": [
            "I am sure some bashers of Pens fans are pretty confused about the lack\n",
            "of any kind of posts about the recent Pens massacre of the Devils. However, I am going to put an end\n",
            "to non-PIttsburghers' relief with a bit of praise for the Pens.\n"
          ]
        }
      ]
    },
    {
      "cell_type": "markdown",
      "source": [
        "One line summary"
      ],
      "metadata": {
        "id": "9hbxJG605HBg"
      }
    },
    {
      "cell_type": "code",
      "source": [
        "from transformers import pipeline\n",
        "summarizer = pipeline(\"summarization\", model=\"snrspeaks/t5-one-line-summary\", tokenizer=\"snrspeaks/t5-one-line-summary\")\n",
        "title = summarizer(input_text, min_length=5, max_length=100)"
      ],
      "metadata": {
        "id": "CIVlU2M55Ff6"
      },
      "execution_count": 69,
      "outputs": []
    },
    {
      "cell_type": "code",
      "source": [
        "title"
      ],
      "metadata": {
        "colab": {
          "base_uri": "https://localhost:8080/"
        },
        "id": "vyU_mFIAl0by",
        "outputId": "69ca639d-12a6-4be6-a66a-852b252458de"
      },
      "execution_count": 70,
      "outputs": [
        {
          "output_type": "execute_result",
          "data": {
            "text/plain": [
              "[{'summary_text': 'The Pens RULE!'}]"
            ]
          },
          "metadata": {},
          "execution_count": 70
        }
      ]
    },
    {
      "cell_type": "markdown",
      "source": [
        "**Contextual topic modeling**"
      ],
      "metadata": {
        "id": "3Q_v3EQN5tlX"
      }
    },
    {
      "cell_type": "code",
      "source": [
        "!pip install contextualized-topic-models==2.2.0"
      ],
      "metadata": {
        "colab": {
          "base_uri": "https://localhost:8080/"
        },
        "id": "mXdzZmzx3XYX",
        "outputId": "1f31ec01-7e40-46f2-b860-1119f716f9df"
      },
      "execution_count": 71,
      "outputs": [
        {
          "output_type": "stream",
          "name": "stdout",
          "text": [
            "Requirement already satisfied: contextualized-topic-models==2.2.0 in /usr/local/lib/python3.7/dist-packages (2.2.0)\n",
            "Requirement already satisfied: matplotlib>=3.1.3 in /usr/local/lib/python3.7/dist-packages (from contextualized-topic-models==2.2.0) (3.2.2)\n",
            "Requirement already satisfied: ipython==7.16.1 in /usr/local/lib/python3.7/dist-packages (from contextualized-topic-models==2.2.0) (7.16.1)\n",
            "Requirement already satisfied: torch>=1.6.0 in /usr/local/lib/python3.7/dist-packages (from contextualized-topic-models==2.2.0) (1.10.0+cu111)\n",
            "Requirement already satisfied: numpy>=1.19.1 in /usr/local/lib/python3.7/dist-packages (from contextualized-topic-models==2.2.0) (1.21.5)\n",
            "Requirement already satisfied: tqdm>=4.56.0 in /usr/local/lib/python3.7/dist-packages (from contextualized-topic-models==2.2.0) (4.63.0)\n",
            "Requirement already satisfied: torchvision>=0.7.0 in /usr/local/lib/python3.7/dist-packages (from contextualized-topic-models==2.2.0) (0.11.1+cu111)\n",
            "Requirement already satisfied: sentence-transformers>=1.1.1 in /usr/local/lib/python3.7/dist-packages (from contextualized-topic-models==2.2.0) (2.2.0)\n",
            "Requirement already satisfied: scipy>=1.4.1 in /usr/local/lib/python3.7/dist-packages (from contextualized-topic-models==2.2.0) (1.4.1)\n",
            "Requirement already satisfied: gensim>=3.8.3 in /usr/local/lib/python3.7/dist-packages (from contextualized-topic-models==2.2.0) (4.1.2)\n",
            "Requirement already satisfied: wordcloud>=1.8.1 in /usr/local/lib/python3.7/dist-packages (from contextualized-topic-models==2.2.0) (1.8.1)\n",
            "Requirement already satisfied: ipywidgets==7.5.1 in /usr/local/lib/python3.7/dist-packages (from contextualized-topic-models==2.2.0) (7.5.1)\n",
            "Requirement already satisfied: prompt-toolkit!=3.0.0,!=3.0.1,<3.1.0,>=2.0.0 in /usr/local/lib/python3.7/dist-packages (from ipython==7.16.1->contextualized-topic-models==2.2.0) (3.0.28)\n",
            "Requirement already satisfied: traitlets>=4.2 in /usr/local/lib/python3.7/dist-packages (from ipython==7.16.1->contextualized-topic-models==2.2.0) (5.1.1)\n",
            "Requirement already satisfied: pickleshare in /usr/local/lib/python3.7/dist-packages (from ipython==7.16.1->contextualized-topic-models==2.2.0) (0.7.5)\n",
            "Requirement already satisfied: decorator in /usr/local/lib/python3.7/dist-packages (from ipython==7.16.1->contextualized-topic-models==2.2.0) (4.4.2)\n",
            "Requirement already satisfied: setuptools>=18.5 in /usr/local/lib/python3.7/dist-packages (from ipython==7.16.1->contextualized-topic-models==2.2.0) (59.5.0)\n",
            "Requirement already satisfied: backcall in /usr/local/lib/python3.7/dist-packages (from ipython==7.16.1->contextualized-topic-models==2.2.0) (0.2.0)\n",
            "Requirement already satisfied: pygments in /usr/local/lib/python3.7/dist-packages (from ipython==7.16.1->contextualized-topic-models==2.2.0) (2.6.1)\n",
            "Requirement already satisfied: pexpect in /usr/local/lib/python3.7/dist-packages (from ipython==7.16.1->contextualized-topic-models==2.2.0) (4.8.0)\n",
            "Requirement already satisfied: jedi>=0.10 in /usr/local/lib/python3.7/dist-packages (from ipython==7.16.1->contextualized-topic-models==2.2.0) (0.18.1)\n",
            "Requirement already satisfied: ipykernel>=4.5.1 in /usr/local/lib/python3.7/dist-packages (from ipywidgets==7.5.1->contextualized-topic-models==2.2.0) (4.10.1)\n",
            "Requirement already satisfied: nbformat>=4.2.0 in /usr/local/lib/python3.7/dist-packages (from ipywidgets==7.5.1->contextualized-topic-models==2.2.0) (5.2.0)\n",
            "Requirement already satisfied: widgetsnbextension~=3.5.0 in /usr/local/lib/python3.7/dist-packages (from ipywidgets==7.5.1->contextualized-topic-models==2.2.0) (3.5.2)\n",
            "Requirement already satisfied: smart-open>=1.8.1 in /usr/local/lib/python3.7/dist-packages (from gensim>=3.8.3->contextualized-topic-models==2.2.0) (5.2.1)\n",
            "Requirement already satisfied: jupyter-client in /usr/local/lib/python3.7/dist-packages (from ipykernel>=4.5.1->ipywidgets==7.5.1->contextualized-topic-models==2.2.0) (5.3.5)\n",
            "Requirement already satisfied: tornado>=4.0 in /usr/local/lib/python3.7/dist-packages (from ipykernel>=4.5.1->ipywidgets==7.5.1->contextualized-topic-models==2.2.0) (5.1.1)\n",
            "Requirement already satisfied: parso<0.9.0,>=0.8.0 in /usr/local/lib/python3.7/dist-packages (from jedi>=0.10->ipython==7.16.1->contextualized-topic-models==2.2.0) (0.8.3)\n",
            "Requirement already satisfied: kiwisolver>=1.0.1 in /usr/local/lib/python3.7/dist-packages (from matplotlib>=3.1.3->contextualized-topic-models==2.2.0) (1.4.0)\n",
            "Requirement already satisfied: pyparsing!=2.0.4,!=2.1.2,!=2.1.6,>=2.0.1 in /usr/local/lib/python3.7/dist-packages (from matplotlib>=3.1.3->contextualized-topic-models==2.2.0) (3.0.7)\n",
            "Requirement already satisfied: python-dateutil>=2.1 in /usr/local/lib/python3.7/dist-packages (from matplotlib>=3.1.3->contextualized-topic-models==2.2.0) (2.8.2)\n",
            "Requirement already satisfied: cycler>=0.10 in /usr/local/lib/python3.7/dist-packages (from matplotlib>=3.1.3->contextualized-topic-models==2.2.0) (0.11.0)\n",
            "Requirement already satisfied: typing-extensions in /usr/local/lib/python3.7/dist-packages (from kiwisolver>=1.0.1->matplotlib>=3.1.3->contextualized-topic-models==2.2.0) (3.10.0.2)\n",
            "Requirement already satisfied: jupyter-core in /usr/local/lib/python3.7/dist-packages (from nbformat>=4.2.0->ipywidgets==7.5.1->contextualized-topic-models==2.2.0) (4.9.2)\n",
            "Requirement already satisfied: jsonschema!=2.5.0,>=2.4 in /usr/local/lib/python3.7/dist-packages (from nbformat>=4.2.0->ipywidgets==7.5.1->contextualized-topic-models==2.2.0) (4.3.3)\n",
            "Requirement already satisfied: attrs>=17.4.0 in /usr/local/lib/python3.7/dist-packages (from jsonschema!=2.5.0,>=2.4->nbformat>=4.2.0->ipywidgets==7.5.1->contextualized-topic-models==2.2.0) (21.4.0)\n",
            "Requirement already satisfied: importlib-resources>=1.4.0 in /usr/local/lib/python3.7/dist-packages (from jsonschema!=2.5.0,>=2.4->nbformat>=4.2.0->ipywidgets==7.5.1->contextualized-topic-models==2.2.0) (5.4.0)\n",
            "Requirement already satisfied: importlib-metadata in /usr/local/lib/python3.7/dist-packages (from jsonschema!=2.5.0,>=2.4->nbformat>=4.2.0->ipywidgets==7.5.1->contextualized-topic-models==2.2.0) (4.11.3)\n",
            "Requirement already satisfied: pyrsistent!=0.17.0,!=0.17.1,!=0.17.2,>=0.14.0 in /usr/local/lib/python3.7/dist-packages (from jsonschema!=2.5.0,>=2.4->nbformat>=4.2.0->ipywidgets==7.5.1->contextualized-topic-models==2.2.0) (0.18.1)\n",
            "Requirement already satisfied: zipp>=3.1.0 in /usr/local/lib/python3.7/dist-packages (from importlib-resources>=1.4.0->jsonschema!=2.5.0,>=2.4->nbformat>=4.2.0->ipywidgets==7.5.1->contextualized-topic-models==2.2.0) (3.7.0)\n",
            "Requirement already satisfied: wcwidth in /usr/local/lib/python3.7/dist-packages (from prompt-toolkit!=3.0.0,!=3.0.1,<3.1.0,>=2.0.0->ipython==7.16.1->contextualized-topic-models==2.2.0) (0.2.5)\n",
            "Requirement already satisfied: six>=1.5 in /usr/local/lib/python3.7/dist-packages (from python-dateutil>=2.1->matplotlib>=3.1.3->contextualized-topic-models==2.2.0) (1.15.0)\n",
            "Requirement already satisfied: nltk in /usr/local/lib/python3.7/dist-packages (from sentence-transformers>=1.1.1->contextualized-topic-models==2.2.0) (3.2.5)\n",
            "Requirement already satisfied: sentencepiece in /usr/local/lib/python3.7/dist-packages (from sentence-transformers>=1.1.1->contextualized-topic-models==2.2.0) (0.1.96)\n",
            "Requirement already satisfied: transformers<5.0.0,>=4.6.0 in /usr/local/lib/python3.7/dist-packages (from sentence-transformers>=1.1.1->contextualized-topic-models==2.2.0) (4.16.2)\n",
            "Requirement already satisfied: scikit-learn in /usr/local/lib/python3.7/dist-packages (from sentence-transformers>=1.1.1->contextualized-topic-models==2.2.0) (1.0.2)\n",
            "Requirement already satisfied: huggingface-hub in /usr/local/lib/python3.7/dist-packages (from sentence-transformers>=1.1.1->contextualized-topic-models==2.2.0) (0.4.0)\n",
            "Requirement already satisfied: pillow!=8.3.0,>=5.3.0 in /usr/local/lib/python3.7/dist-packages (from torchvision>=0.7.0->contextualized-topic-models==2.2.0) (7.1.2)\n",
            "Requirement already satisfied: regex!=2019.12.17 in /usr/local/lib/python3.7/dist-packages (from transformers<5.0.0,>=4.6.0->sentence-transformers>=1.1.1->contextualized-topic-models==2.2.0) (2019.12.20)\n",
            "Requirement already satisfied: tokenizers!=0.11.3,>=0.10.1 in /usr/local/lib/python3.7/dist-packages (from transformers<5.0.0,>=4.6.0->sentence-transformers>=1.1.1->contextualized-topic-models==2.2.0) (0.11.6)\n",
            "Requirement already satisfied: requests in /usr/local/lib/python3.7/dist-packages (from transformers<5.0.0,>=4.6.0->sentence-transformers>=1.1.1->contextualized-topic-models==2.2.0) (2.23.0)\n",
            "Requirement already satisfied: packaging>=20.0 in /usr/local/lib/python3.7/dist-packages (from transformers<5.0.0,>=4.6.0->sentence-transformers>=1.1.1->contextualized-topic-models==2.2.0) (21.3)\n",
            "Requirement already satisfied: filelock in /usr/local/lib/python3.7/dist-packages (from transformers<5.0.0,>=4.6.0->sentence-transformers>=1.1.1->contextualized-topic-models==2.2.0) (3.6.0)\n",
            "Requirement already satisfied: sacremoses in /usr/local/lib/python3.7/dist-packages (from transformers<5.0.0,>=4.6.0->sentence-transformers>=1.1.1->contextualized-topic-models==2.2.0) (0.0.49)\n",
            "Requirement already satisfied: pyyaml>=5.1 in /usr/local/lib/python3.7/dist-packages (from transformers<5.0.0,>=4.6.0->sentence-transformers>=1.1.1->contextualized-topic-models==2.2.0) (5.4.1)\n",
            "Requirement already satisfied: notebook>=4.4.1 in /usr/local/lib/python3.7/dist-packages (from widgetsnbextension~=3.5.0->ipywidgets==7.5.1->contextualized-topic-models==2.2.0) (5.3.1)\n",
            "Requirement already satisfied: ipython-genutils in /usr/local/lib/python3.7/dist-packages (from notebook>=4.4.1->widgetsnbextension~=3.5.0->ipywidgets==7.5.1->contextualized-topic-models==2.2.0) (0.2.0)\n",
            "Requirement already satisfied: jinja2 in /usr/local/lib/python3.7/dist-packages (from notebook>=4.4.1->widgetsnbextension~=3.5.0->ipywidgets==7.5.1->contextualized-topic-models==2.2.0) (2.11.3)\n",
            "Requirement already satisfied: nbconvert in /usr/local/lib/python3.7/dist-packages (from notebook>=4.4.1->widgetsnbextension~=3.5.0->ipywidgets==7.5.1->contextualized-topic-models==2.2.0) (5.6.1)\n",
            "Requirement already satisfied: Send2Trash in /usr/local/lib/python3.7/dist-packages (from notebook>=4.4.1->widgetsnbextension~=3.5.0->ipywidgets==7.5.1->contextualized-topic-models==2.2.0) (1.8.0)\n",
            "Requirement already satisfied: terminado>=0.8.1 in /usr/local/lib/python3.7/dist-packages (from notebook>=4.4.1->widgetsnbextension~=3.5.0->ipywidgets==7.5.1->contextualized-topic-models==2.2.0) (0.13.3)\n",
            "Requirement already satisfied: pyzmq>=13 in /usr/local/lib/python3.7/dist-packages (from jupyter-client->ipykernel>=4.5.1->ipywidgets==7.5.1->contextualized-topic-models==2.2.0) (22.3.0)\n",
            "Requirement already satisfied: ptyprocess in /usr/local/lib/python3.7/dist-packages (from terminado>=0.8.1->notebook>=4.4.1->widgetsnbextension~=3.5.0->ipywidgets==7.5.1->contextualized-topic-models==2.2.0) (0.7.0)\n",
            "Requirement already satisfied: MarkupSafe>=0.23 in /usr/local/lib/python3.7/dist-packages (from jinja2->notebook>=4.4.1->widgetsnbextension~=3.5.0->ipywidgets==7.5.1->contextualized-topic-models==2.2.0) (2.0.1)\n",
            "Requirement already satisfied: entrypoints>=0.2.2 in /usr/local/lib/python3.7/dist-packages (from nbconvert->notebook>=4.4.1->widgetsnbextension~=3.5.0->ipywidgets==7.5.1->contextualized-topic-models==2.2.0) (0.4)\n",
            "Requirement already satisfied: bleach in /usr/local/lib/python3.7/dist-packages (from nbconvert->notebook>=4.4.1->widgetsnbextension~=3.5.0->ipywidgets==7.5.1->contextualized-topic-models==2.2.0) (4.1.0)\n",
            "Requirement already satisfied: mistune<2,>=0.8.1 in /usr/local/lib/python3.7/dist-packages (from nbconvert->notebook>=4.4.1->widgetsnbextension~=3.5.0->ipywidgets==7.5.1->contextualized-topic-models==2.2.0) (0.8.4)\n",
            "Requirement already satisfied: pandocfilters>=1.4.1 in /usr/local/lib/python3.7/dist-packages (from nbconvert->notebook>=4.4.1->widgetsnbextension~=3.5.0->ipywidgets==7.5.1->contextualized-topic-models==2.2.0) (1.5.0)\n",
            "Requirement already satisfied: testpath in /usr/local/lib/python3.7/dist-packages (from nbconvert->notebook>=4.4.1->widgetsnbextension~=3.5.0->ipywidgets==7.5.1->contextualized-topic-models==2.2.0) (0.6.0)\n",
            "Requirement already satisfied: defusedxml in /usr/local/lib/python3.7/dist-packages (from nbconvert->notebook>=4.4.1->widgetsnbextension~=3.5.0->ipywidgets==7.5.1->contextualized-topic-models==2.2.0) (0.7.1)\n",
            "Requirement already satisfied: webencodings in /usr/local/lib/python3.7/dist-packages (from bleach->nbconvert->notebook>=4.4.1->widgetsnbextension~=3.5.0->ipywidgets==7.5.1->contextualized-topic-models==2.2.0) (0.5.1)\n",
            "Requirement already satisfied: certifi>=2017.4.17 in /usr/local/lib/python3.7/dist-packages (from requests->transformers<5.0.0,>=4.6.0->sentence-transformers>=1.1.1->contextualized-topic-models==2.2.0) (2021.10.8)\n",
            "Requirement already satisfied: urllib3!=1.25.0,!=1.25.1,<1.26,>=1.21.1 in /usr/local/lib/python3.7/dist-packages (from requests->transformers<5.0.0,>=4.6.0->sentence-transformers>=1.1.1->contextualized-topic-models==2.2.0) (1.24.3)\n",
            "Requirement already satisfied: idna<3,>=2.5 in /usr/local/lib/python3.7/dist-packages (from requests->transformers<5.0.0,>=4.6.0->sentence-transformers>=1.1.1->contextualized-topic-models==2.2.0) (2.10)\n",
            "Requirement already satisfied: chardet<4,>=3.0.2 in /usr/local/lib/python3.7/dist-packages (from requests->transformers<5.0.0,>=4.6.0->sentence-transformers>=1.1.1->contextualized-topic-models==2.2.0) (3.0.4)\n",
            "Requirement already satisfied: click in /usr/local/lib/python3.7/dist-packages (from sacremoses->transformers<5.0.0,>=4.6.0->sentence-transformers>=1.1.1->contextualized-topic-models==2.2.0) (7.1.2)\n",
            "Requirement already satisfied: joblib in /usr/local/lib/python3.7/dist-packages (from sacremoses->transformers<5.0.0,>=4.6.0->sentence-transformers>=1.1.1->contextualized-topic-models==2.2.0) (1.1.0)\n",
            "Requirement already satisfied: threadpoolctl>=2.0.0 in /usr/local/lib/python3.7/dist-packages (from scikit-learn->sentence-transformers>=1.1.1->contextualized-topic-models==2.2.0) (3.1.0)\n"
          ]
        }
      ]
    },
    {
      "cell_type": "code",
      "source": [
        "!pip install pyldavis"
      ],
      "metadata": {
        "colab": {
          "base_uri": "https://localhost:8080/"
        },
        "id": "WyqtAvCJ59dA",
        "outputId": "821eb61b-ae8f-495a-a3b6-cff7e573a2fc"
      },
      "execution_count": 72,
      "outputs": [
        {
          "output_type": "stream",
          "name": "stdout",
          "text": [
            "Requirement already satisfied: pyldavis in /usr/local/lib/python3.7/dist-packages (3.3.1)\n",
            "Requirement already satisfied: scikit-learn in /usr/local/lib/python3.7/dist-packages (from pyldavis) (1.0.2)\n",
            "Requirement already satisfied: numexpr in /usr/local/lib/python3.7/dist-packages (from pyldavis) (2.8.1)\n",
            "Requirement already satisfied: numpy>=1.20.0 in /usr/local/lib/python3.7/dist-packages (from pyldavis) (1.21.5)\n",
            "Requirement already satisfied: pandas>=1.2.0 in /usr/local/lib/python3.7/dist-packages (from pyldavis) (1.3.5)\n",
            "Requirement already satisfied: sklearn in /usr/local/lib/python3.7/dist-packages (from pyldavis) (0.0)\n",
            "Requirement already satisfied: future in /usr/local/lib/python3.7/dist-packages (from pyldavis) (0.18.2)\n",
            "Requirement already satisfied: scipy in /usr/local/lib/python3.7/dist-packages (from pyldavis) (1.4.1)\n",
            "Requirement already satisfied: setuptools in /usr/local/lib/python3.7/dist-packages (from pyldavis) (59.5.0)\n",
            "Requirement already satisfied: gensim in /usr/local/lib/python3.7/dist-packages (from pyldavis) (4.1.2)\n",
            "Requirement already satisfied: funcy in /usr/local/lib/python3.7/dist-packages (from pyldavis) (1.17)\n",
            "Requirement already satisfied: joblib in /usr/local/lib/python3.7/dist-packages (from pyldavis) (1.1.0)\n",
            "Requirement already satisfied: jinja2 in /usr/local/lib/python3.7/dist-packages (from pyldavis) (2.11.3)\n",
            "Requirement already satisfied: pytz>=2017.3 in /usr/local/lib/python3.7/dist-packages (from pandas>=1.2.0->pyldavis) (2018.9)\n",
            "Requirement already satisfied: python-dateutil>=2.7.3 in /usr/local/lib/python3.7/dist-packages (from pandas>=1.2.0->pyldavis) (2.8.2)\n",
            "Requirement already satisfied: six>=1.5 in /usr/local/lib/python3.7/dist-packages (from python-dateutil>=2.7.3->pandas>=1.2.0->pyldavis) (1.15.0)\n",
            "Requirement already satisfied: smart-open>=1.8.1 in /usr/local/lib/python3.7/dist-packages (from gensim->pyldavis) (5.2.1)\n",
            "Requirement already satisfied: MarkupSafe>=0.23 in /usr/local/lib/python3.7/dist-packages (from jinja2->pyldavis) (2.0.1)\n",
            "Requirement already satisfied: packaging in /usr/local/lib/python3.7/dist-packages (from numexpr->pyldavis) (21.3)\n",
            "Requirement already satisfied: pyparsing!=3.0.5,>=2.0.2 in /usr/local/lib/python3.7/dist-packages (from packaging->numexpr->pyldavis) (3.0.7)\n",
            "Requirement already satisfied: threadpoolctl>=2.0.0 in /usr/local/lib/python3.7/dist-packages (from scikit-learn->pyldavis) (3.1.0)\n"
          ]
        }
      ]
    },
    {
      "cell_type": "code",
      "source": [
        "from contextualized_topic_models.models.ctm import ZeroShotTM\n",
        "from contextualized_topic_models.utils.data_preparation import TopicModelDataPreparation\n",
        "from contextualized_topic_models.utils.preprocessing import WhiteSpacePreprocessing\n"
      ],
      "metadata": {
        "id": "7qU2QH5N59fx"
      },
      "execution_count": 73,
      "outputs": []
    },
    {
      "cell_type": "code",
      "source": [
        "nltk.download('stopwords')\n",
        "\n",
        "documents = docs[0:5]\n",
        "sp = WhiteSpacePreprocessing(documents, stopwords_language='english')\n",
        "\n",
        "preprocessed_documents, unpreprocessed_corpus, vocab = sp.preprocess()"
      ],
      "metadata": {
        "colab": {
          "base_uri": "https://localhost:8080/"
        },
        "id": "FsxKiZd67NCH",
        "outputId": "1f9dca01-d7f5-44a4-cece-c5a62d0c22a5"
      },
      "execution_count": 74,
      "outputs": [
        {
          "output_type": "stream",
          "name": "stdout",
          "text": [
            "[nltk_data] Downloading package stopwords to /root/nltk_data...\n",
            "[nltk_data]   Package stopwords is already up-to-date!\n"
          ]
        }
      ]
    },
    {
      "cell_type": "code",
      "source": [
        "preprocessed_documents[:2]"
      ],
      "metadata": {
        "colab": {
          "base_uri": "https://localhost:8080/"
        },
        "id": "KbMou4-q59lA",
        "outputId": "248d0854-0a99-4427-ac77-b58462259c5d"
      },
      "execution_count": 75,
      "outputs": [
        {
          "output_type": "execute_result",
          "data": {
            "text/plain": [
              "['sure bashers pens fans pretty confused lack kind posts recent pens massacre devils actually bit puzzled bit relieved however going put end non pittsburghers relief bit praise pens man killing devils worse thought jagr showed much better regular season stats also lot fo fun watch playoffs bowman let jagr lot fun next couple games since pens going beat pulp jersey anyway disappointed see islanders lose final regular season game pens rule',\n",
              " 'brother market high performance video card supports vesa local bus ram anyone suggestions ideas diamond stealth pro local bus orchid farenheit ati graphics ultra pro high performance vlb card please post email thank matt']"
            ]
          },
          "metadata": {},
          "execution_count": 75
        }
      ]
    },
    {
      "cell_type": "code",
      "source": [
        "tp = TopicModelDataPreparation(\"paraphrase-multilingual-mpnet-base-v2\")\n",
        "\n",
        "training_dataset = tp.fit(text_for_contextual=unpreprocessed_corpus, text_for_bow=preprocessed_documents)"
      ],
      "metadata": {
        "colab": {
          "base_uri": "https://localhost:8080/",
          "height": 49,
          "referenced_widgets": [
            "849b27ad2b7f4d3cbfbe3501ad0722d7",
            "ecad5008dfd24a30ad55db031bf6b26e",
            "33406c27e4b943c4a681cfb499d35228",
            "737b05f644824f8585849b4ac5cacbbd",
            "51e3e7d08f6c47e2a32387351751dacf",
            "dbf8af2b1748425cada4bccb8b7e7f67",
            "e42708cc1b9546a7b5ad2a1ffbcb10ea",
            "baa6b80845004ba69b3819749e4a74c2",
            "c3743cd3f2ed40be9de1e724248d9301",
            "fa083a0474374445a4146c4a417d6e49",
            "f248dc517d014050abc435bb964e6d4e"
          ]
        },
        "id": "jvvnBkaG59nl",
        "outputId": "b46068da-58f7-40a4-dd15-fc1b556acb52"
      },
      "execution_count": 76,
      "outputs": [
        {
          "output_type": "display_data",
          "data": {
            "text/plain": [
              "Batches:   0%|          | 0/1 [00:00<?, ?it/s]"
            ],
            "application/vnd.jupyter.widget-view+json": {
              "version_major": 2,
              "version_minor": 0,
              "model_id": "849b27ad2b7f4d3cbfbe3501ad0722d7"
            }
          },
          "metadata": {}
        }
      ]
    },
    {
      "cell_type": "code",
      "source": [
        "tp.vocab[:10]"
      ],
      "metadata": {
        "colab": {
          "base_uri": "https://localhost:8080/"
        },
        "id": "4hVCIQdS59pR",
        "outputId": "e9be6c91-a144-4029-cd24-55f7802aa7f1"
      },
      "execution_count": 77,
      "outputs": [
        {
          "output_type": "execute_result",
          "data": {
            "text/plain": [
              "['ability',\n",
              " 'actually',\n",
              " 'also',\n",
              " 'ancient',\n",
              " 'announced',\n",
              " 'another',\n",
              " 'anyone',\n",
              " 'anyway',\n",
              " 'april',\n",
              " 'aquire']"
            ]
          },
          "metadata": {},
          "execution_count": 77
        }
      ]
    },
    {
      "cell_type": "code",
      "source": [
        "ctm = ZeroShotTM(bow_size=len(tp.vocab), contextual_size=768, n_components=50, num_epochs=20)\n",
        "ctm.fit(training_dataset) # run the model"
      ],
      "metadata": {
        "colab": {
          "base_uri": "https://localhost:8080/"
        },
        "id": "LX3VYK4q7aZ3",
        "outputId": "4e791bc8-97c9-4580-decb-59b643e1d1a4"
      },
      "execution_count": 78,
      "outputs": [
        {
          "output_type": "stream",
          "name": "stderr",
          "text": [
            "Epoch: [20/20]\t Seen Samples: [100/100]\tTrain Loss: 451.3189453125\tTime: 0:00:00.444889: : 20it [00:09,  2.09it/s]\n"
          ]
        }
      ]
    },
    {
      "cell_type": "code",
      "source": [
        "ctm.get_topic_lists(5)"
      ],
      "metadata": {
        "colab": {
          "base_uri": "https://localhost:8080/"
        },
        "id": "L2tsGRXI7ace",
        "outputId": "3d09cb05-2d8a-4015-ff89-c315bcc31aad"
      },
      "execution_count": 79,
      "outputs": [
        {
          "output_type": "execute_result",
          "data": {
            "text/plain": [
              "[['disappointed', 'upsate', 'pay', 'lie', 'compatability'],\n",
              " ['watch', 'end', 'forgot', 'much', 'lose'],\n",
              " ['dream', 'government', 'area', 'killings', 'containing'],\n",
              " ['anyone', 'device', 'drive', 'formatters', 'system'],\n",
              " ['inexpensive', 'swedish', 'called', 'seen', 'pro'],\n",
              " ['massacre', 'question', 'disk', 'thought', 'modern'],\n",
              " ['diamond', 'fans', 'nothing', 'killer', 'pay'],\n",
              " ['send', 'actually', 'transfers', 'device', 'used'],\n",
              " ['july', 'price', 'post', 'start', 'tape'],\n",
              " ['also', 'os', 'matt', 'ready', 'market'],\n",
              " ['beckup', 'islanders', 'showed', 'thank', 'posts'],\n",
              " ['attached', 'see', 'wanting', 'showed', 'old'],\n",
              " ['aquire', 'recent', 'tasking', 'next', 'devices'],\n",
              " ['actually', 'armenian', 'high', 'government', 'armenia'],\n",
              " ['fo', 'seeked', 'send', 'july', 'butter'],\n",
              " ['going', 'give', 'personel', 'armenian', 'program'],\n",
              " ['season', 'program', 'vlb', 'showed', 'seeked'],\n",
              " ['planes', 'suggestions', 'attack', 'data', 'high'],\n",
              " ['pretty', 'idea', 'vesa', 'dma', 'market'],\n",
              " ['weapons', 'started', 'turkey', 'person', 'shall'],\n",
              " ['ready', 'seeking', 'send', 'busy', 'commands'],\n",
              " ['tapes', 'regular', 'detach', 'lack', 'use'],\n",
              " ['idea', 'jasmine', 'free', 'lot', 'true'],\n",
              " ['lock', 'regional', 'rapings', 'fight', 'also'],\n",
              " ['still', 'women', 'person', 'rapings', 'turks'],\n",
              " ['seeking', 'ideas', 'finally', 'use', 'rapings'],\n",
              " ['attack', 'content', 'province', 'confused', 'holocaust'],\n",
              " ['policy', 'price', 'holocaust', 'april', 'upon'],\n",
              " ['ohhhh', 'started', 'mechanism', 'government', 'search'],\n",
              " ['vesa', 'processes', 'ability', 'bowman', 'techmar'],\n",
              " ['post', 'ati', 'anyone', 'upsate', 'bought'],\n",
              " ['true', 'kurds', 'mediterranean', 'performance', 'april'],\n",
              " ['essentially', 'graphics', 'work', 'anyone', 'modern'],\n",
              " ['since', 'lose', 'pittsburghers', 'pens', 'diamond'],\n",
              " ['pro', 'ultra', 'orchid', 'seeking', 'card'],\n",
              " ['nothing', 'kurds', 'beckup', 'utility', 'russian'],\n",
              " ['children', 'upon', 'said', 'armenia', 'ram'],\n",
              " ['forgot', 'bashers', 'armenian', 'pulp', 'busy'],\n",
              " ['fans', 'bowman', 'karabag', 'next', 'actually'],\n",
              " ['time', 'end', 'final', 'personel', 'facist'],\n",
              " ['shoot', 'july', 'killed', 'bread', 'lie'],\n",
              " ['convention', 'work', 'april', 'upsate', 'stealth'],\n",
              " ['pittsburghers', 'drive', 'government', 'time', 'thank'],\n",
              " ['high', 'diamond', 'ability', 'tasking', 'ready'],\n",
              " ['used', 'bus', 'much', 'transfered', 'game'],\n",
              " ['bread', 'another', 'numbers', 'devices', 'giving'],\n",
              " ['jasmine', 'praise', 'commands', 'actually', 'device'],\n",
              " ['ideas', 'feature', 'puzzled', 'pro', 'vesa'],\n",
              " ['ohhhh', 'new', 'beat', 'mentioned', 'search'],\n",
              " ['pay', 'pro', 'bread', 'true', 'convention']]"
            ]
          },
          "metadata": {},
          "execution_count": 79
        }
      ]
    },
    {
      "cell_type": "markdown",
      "source": [
        "**Question generation**"
      ],
      "metadata": {
        "id": "h9QinmaJ7sJl"
      }
    },
    {
      "cell_type": "code",
      "source": [
        "from transformers import pipeline\n",
        "text2text_generator = pipeline(\"text2text-generation\",model=\"ZhangCheng/T5v1.1-Base-Fine-Tuned-for-Question-Generation\",tokenizer=\"ZhangCheng/T5v1.1-Base-Fine-Tuned-for-Question-Generation\")\n",
        "text = \"<answer> The Pens RULE! <context>\"+str(input_text)\n",
        "# text2text_generator(\"question: What is 42 ? context: 42 is the answer to life, the universe and everything\")"
      ],
      "metadata": {
        "id": "gYQhyC--7ae4"
      },
      "execution_count": 80,
      "outputs": []
    },
    {
      "cell_type": "code",
      "source": [
        "list_questions = text2text_generator(text)"
      ],
      "metadata": {
        "id": "d9JV3mZT7ahP"
      },
      "execution_count": 81,
      "outputs": []
    },
    {
      "cell_type": "code",
      "source": [
        "list_questions"
      ],
      "metadata": {
        "colab": {
          "base_uri": "https://localhost:8080/"
        },
        "id": "V8gIJZmltN7A",
        "outputId": "9a9d47ed-8dd9-4e2c-9e87-ca89037080b1"
      },
      "execution_count": 82,
      "outputs": [
        {
          "output_type": "execute_result",
          "data": {
            "text/plain": [
              "[{'generated_text': 'What was the final regular season game called?'}]"
            ]
          },
          "metadata": {},
          "execution_count": 82
        }
      ]
    },
    {
      "cell_type": "markdown",
      "source": [
        "**Various Summary**"
      ],
      "metadata": {
        "id": "YWNLQGo09954"
      }
    },
    {
      "cell_type": "code",
      "source": [
        "import torch\n",
        "from transformers import T5ForConditionalGeneration,T5Tokenizer\n",
        "\n",
        "\n",
        "def set_seed(seed):\n",
        "  torch.manual_seed(seed)\n",
        "  if torch.cuda.is_available():\n",
        "    torch.cuda.manual_seed_all(seed)\n",
        "\n",
        "set_seed(42)\n",
        "\n",
        "model = T5ForConditionalGeneration.from_pretrained('t5-base')\n",
        "tokenizer = T5Tokenizer.from_pretrained('t5-base')\n",
        "\n",
        "device = torch.device(\"cuda\" if torch.cuda.is_available() else \"cpu\")\n",
        "print (\"device \",device)\n",
        "model = model.to(device)\n",
        "\n",
        "sentence = input_text\n",
        "text =  input_text\n",
        "\n",
        "\n",
        "max_len = 256\n",
        "\n",
        "encoding = tokenizer.encode_plus(text,pad_to_max_length=True, return_tensors=\"pt\")\n",
        "input_ids, attention_masks = encoding[\"input_ids\"].to(device), encoding[\"attention_mask\"].to(device)\n",
        "\n",
        "\n",
        "# set top_k = 50 and set top_p = 0.95 and num_return_sequences = 3\n",
        "beam_outputs = model.generate(\n",
        "    input_ids=input_ids, attention_mask=attention_masks,\n",
        "    do_sample=True,\n",
        "    max_length=256,\n",
        "    top_k=120,\n",
        "    top_p=0.98,\n",
        "    early_stopping=True,\n",
        "    num_return_sequences=10\n",
        ")\n",
        "\n",
        "\n",
        "print (\"\\nOriginal doc ::\")\n",
        "print (sentence)\n",
        "print (\"\\n\")\n",
        "print (\"various summaries :: \")\n",
        "final_outputs =[]\n",
        "for beam_output in beam_outputs:\n",
        "    sent = tokenizer.decode(beam_output, skip_special_tokens=True,clean_up_tokenization_spaces=True)\n",
        "    if sent.lower() != sentence.lower() and sent not in final_outputs:\n",
        "        final_outputs.append(sent)\n",
        "\n",
        "summaries = []\n",
        "for i, final_output in enumerate(final_outputs):\n",
        "    print(\"{}: {}\".format(i, final_output))\n",
        "    summaries.append(final_output)\n"
      ],
      "metadata": {
        "colab": {
          "base_uri": "https://localhost:8080/"
        },
        "id": "Zc1LPxFr-B-m",
        "outputId": "d92c242e-c9fe-41b0-dda2-3c2c36a9b8c1"
      },
      "execution_count": 83,
      "outputs": [
        {
          "output_type": "stream",
          "name": "stdout",
          "text": [
            "device  cuda\n",
            "\n",
            "Original doc ::\n",
            "\n",
            "\n",
            "I am sure some bashers of Pens fans are pretty confused about the lack\n",
            "of any kind of posts about the recent Pens massacre of the Devils. Actually,\n",
            "I am  bit puzzled too and a bit relieved. However, I am going to put an end\n",
            "to non-PIttsburghers' relief with a bit of praise for the Pens. Man, they\n",
            "are killing those Devils worse than I thought. Jagr just showed you why\n",
            "he is much better than his regular season stats. He is also a lot\n",
            "fo fun to watch in the playoffs. Bowman should let JAgr have a lot of\n",
            "fun in the next couple of games since the Pens are going to beat the pulp out of Jersey anyway. I was very disappointed not to see the Islanders lose the final\n",
            "regular season game.          PENS RULE!!!\n",
            "\n",
            "\n",
            "\n",
            "\n",
            "various summaries :: \n",
            "0: some fans must be pretty frustrated. But I have to say,. Jagr is a real threat to Pens fans. Jagr is a good guy.. Islanders Islanders. MAN!!!!!!!!!!!!!!!!!!!!!!!!!!!!!!!!!!!!!!!!!!!!! But still, THANK YOU! NO WORRY! So disappointed!\n",
            "1: .. Pens fans. Jagr! JAgr is a guy JAgr... I'm a pens fan now. PS - REVIEW: They are a great team. fans! Islanders lose I LOVE NEW PENS!!!!! HA, I too so RULE!!!!!!!!!!!!!!!!!!!!!!!!!!!!!\n",
            "2: but. I think he sure is a terrific player to watch this season.. the Pens out of Jersey season and so RULE!!!!!!!!!!!!!!!!!!!!!!!!!!! LOVE the Pens. PENS RULE!!!!!!!!!!!!!!!!!!!!!! Thanks Jagr! JAgr!!!\n",
            "3: some more. of. However, I am not really worried about this either. Jagr is good and I am likely just wondering if Bowman should get a closer look at him? Islanders but had a good home game win. they are doing excellent but all they can do is lose! PENS DID NOT WATCH!!!\n",
            "4: I am not surprised.. Obviously they are. Yeah, it does seem a bit disappointing too. in the postseason. Jagr. Jersey. then. WORTH PASSING PENS!!!!!!!! - The PENS RULE!!! PENS RULE!!!???!!. and'!!!. Devils, P I am to.. the.. so much...\n",
            "5: with my frustration.. like Jagr. They need to get him to get out of the way in the playoffs.. the PIttsburghers are going to be happy. playoff game away from the Islanders the one. The Pens!, PENS FOREVER!! I loved the Pens!\n",
            "6: . are relieved. Nevertheless, I am going to put our hat on Jagr. excellent. Hes still such fun. Jersey last year CUSTOL!! all. IT’S. fans! are both puzzled and relieved.s' relief.!!!!' relief too. NY Isles.. and. JAgr is awesome.. Jersey..!!!!!! It\n",
            "7: but I am happy to have found a way that has some actuality! some may be confused too. is just over. Jagr deserves more than his season stats.... Islanders will beat that pulp out of Jersey.. PENS!!!!.!!!! are pretty confused too. ex THEY ARE, and?!?! PENS?!?!?!?!?!?!? thes. I. and NO\n",
            "8: post. most of the Pens fans were pretty confused. of him. the Islander will probably beat the pulp out of Jersey. good chance of a good one! This article has contributed to my appreciation and relieve of this blog. you. out THERE!!.... OPENS RULE!!!!\n",
            "9: (or not!). and. Jersey. I should also be watching Jagr for fun in the next couple of games since the Pens will beat the pulp out of Jersey anyway! the last regular season game......p PENS!!!......!!!!! The NHL!!!!!!!!!!!!!!!!!!!!!!!!!!!!!!!!!!!!!!!!!!!!!!!!!!!!!!!!!!!!!!!!!!!!!!!!!!!!!!!!!!!!!!!!!!!!!!!!!!!!!!!!!!!!!!!!!!!!!!!!!\n"
          ]
        }
      ]
    },
    {
      "cell_type": "code",
      "source": [
        "list_questions[0][\"generated_text\"]"
      ],
      "metadata": {
        "colab": {
          "base_uri": "https://localhost:8080/",
          "height": 35
        },
        "id": "kEqobunrmZbz",
        "outputId": "41780143-e595-4c1c-9775-707a8d66672d"
      },
      "execution_count": 84,
      "outputs": [
        {
          "output_type": "execute_result",
          "data": {
            "text/plain": [
              "'What was the final regular season game called?'"
            ],
            "application/vnd.google.colaboratory.intrinsic+json": {
              "type": "string"
            }
          },
          "metadata": {},
          "execution_count": 84
        }
      ]
    },
    {
      "cell_type": "code",
      "source": [
        "def getInformationInJson(title, inputText, full, abs_summary,summaries, questions, keyword_items):\n",
        "  dict_json = {'title' : title}\n",
        "  dict_json['inputText'] = inputText\n",
        "  dict_json['extractive_summarization'] = full\n",
        "  dict_json['abstractive_summarization'] = abs_summary\n",
        "  dict_json['summaries'] = summaries\n",
        "  dict_json['questions'] = questions\n",
        "  dict_json['keywords'] = keyword_items\n",
        "  return json.dumps(dict_json, indent=2)"
      ],
      "metadata": {
        "id": "k1VGZxRe_OKA"
      },
      "execution_count": 85,
      "outputs": []
    },
    {
      "cell_type": "markdown",
      "source": [
        "# Final Json result from the given corpus"
      ],
      "metadata": {
        "id": "27Sa3DVHzD52"
      }
    },
    {
      "cell_type": "code",
      "source": [
        "\n",
        "finalJsonResult = getInformationInJson(title[0][\"summary_text\"], \n",
        "                           input_text.replace('\\n',\"\"),\n",
        "                           full, \n",
        "                           Abs_summ[0]['summary_text'], \n",
        "                           summaries, \n",
        "                           list_questions[0][\"generated_text\"], \n",
        "                           keyword_items)\n",
        "\n",
        "print(finalJsonResult)"
      ],
      "metadata": {
        "colab": {
          "base_uri": "https://localhost:8080/"
        },
        "id": "FTLoLYCIldWn",
        "outputId": "6d900591-d5bb-4eb2-ea82-fd1c3de51ae9"
      },
      "execution_count": 86,
      "outputs": [
        {
          "output_type": "stream",
          "name": "stdout",
          "text": [
            "{\n",
            "  \"title\": \"The Pens RULE!\",\n",
            "  \"inputText\": \"I am sure some bashers of Pens fans are pretty confused about the lackof any kind of posts about the recent Pens massacre of the Devils. Actually,I am  bit puzzled too and a bit relieved. However, I am going to put an endto non-PIttsburghers' relief with a bit of praise for the Pens. Man, theyare killing those Devils worse than I thought. Jagr just showed you whyhe is much better than his regular season stats. He is also a lotfo fun to watch in the playoffs. Bowman should let JAgr have a lot offun in the next couple of games since the Pens are going to beat the pulp out of Jersey anyway. I was very disappointed not to see the Islanders lose the finalregular season game.          PENS RULE!!!\",\n",
            "  \"extractive_summarization\": \"I am sure some bashers of Pens fans are pretty confused about the lack\\nof any kind of posts about the recent Pens massacre of the Devils. However, I am going to put an end\\nto non-PIttsburghers' relief with a bit of praise for the Pens.\",\n",
            "  \"abstractive_summarization\": \"mike downey: some pens fans are puzzled about lack of posts about recent massacre . he says the pens are killing the Devils worse than i thought . downee: i am going to put an end to non-PIttsburghers' relief with praise for the Pens .\",\n",
            "  \"summaries\": [\n",
            "    \"some fans must be pretty frustrated. But I have to say,. Jagr is a real threat to Pens fans. Jagr is a good guy.. Islanders Islanders. MAN!!!!!!!!!!!!!!!!!!!!!!!!!!!!!!!!!!!!!!!!!!!!! But still, THANK YOU! NO WORRY! So disappointed!\",\n",
            "    \".. Pens fans. Jagr! JAgr is a guy JAgr... I'm a pens fan now. PS - REVIEW: They are a great team. fans! Islanders lose I LOVE NEW PENS!!!!! HA, I too so RULE!!!!!!!!!!!!!!!!!!!!!!!!!!!!!\",\n",
            "    \"but. I think he sure is a terrific player to watch this season.. the Pens out of Jersey season and so RULE!!!!!!!!!!!!!!!!!!!!!!!!!!! LOVE the Pens. PENS RULE!!!!!!!!!!!!!!!!!!!!!! Thanks Jagr! JAgr!!!\",\n",
            "    \"some more. of. However, I am not really worried about this either. Jagr is good and I am likely just wondering if Bowman should get a closer look at him? Islanders but had a good home game win. they are doing excellent but all they can do is lose! PENS DID NOT WATCH!!!\",\n",
            "    \"I am not surprised.. Obviously they are. Yeah, it does seem a bit disappointing too. in the postseason. Jagr. Jersey. then. WORTH PASSING PENS!!!!!!!! - The PENS RULE!!! PENS RULE!!!???!!. and'!!!. Devils, P I am to.. the.. so much...\",\n",
            "    \"with my frustration.. like Jagr. They need to get him to get out of the way in the playoffs.. the PIttsburghers are going to be happy. playoff game away from the Islanders the one. The Pens!, PENS FOREVER!! I loved the Pens!\",\n",
            "    \". are relieved. Nevertheless, I am going to put our hat on Jagr. excellent. Hes still such fun. Jersey last year CUSTOL!! all. IT\\u2019S. fans! are both puzzled and relieved.s' relief.!!!!' relief too. NY Isles.. and. JAgr is awesome.. Jersey..!!!!!! It\",\n",
            "    \"but I am happy to have found a way that has some actuality! some may be confused too. is just over. Jagr deserves more than his season stats.... Islanders will beat that pulp out of Jersey.. PENS!!!!.!!!! are pretty confused too. ex THEY ARE, and?!?! PENS?!?!?!?!?!?!? thes. I. and NO\",\n",
            "    \"post. most of the Pens fans were pretty confused. of him. the Islander will probably beat the pulp out of Jersey. good chance of a good one! This article has contributed to my appreciation and relieve of this blog. you. out THERE!!.... OPENS RULE!!!!\",\n",
            "    \"(or not!). and. Jersey. I should also be watching Jagr for fun in the next couple of games since the Pens will beat the pulp out of Jersey anyway! the last regular season game......p PENS!!!......!!!!! The NHL!!!!!!!!!!!!!!!!!!!!!!!!!!!!!!!!!!!!!!!!!!!!!!!!!!!!!!!!!!!!!!!!!!!!!!!!!!!!!!!!!!!!!!!!!!!!!!!!!!!!!!!!!!!!!!!!!!!!!!!!!\"\n",
            "  ],\n",
            "  \"questions\": \"What was the final regular season game called?\",\n",
            "  \"keywords\": [\n",
            "    \"killing\",\n",
            "    \"playoffs\",\n",
            "    \"devils\",\n",
            "    \"massacre\",\n",
            "    \"bashers\"\n",
            "  ]\n",
            "}\n"
          ]
        }
      ]
    },
    {
      "cell_type": "markdown",
      "source": [
        "# **More information to retrive from corpus**\n",
        "\n",
        "**POS Tagger**"
      ],
      "metadata": {
        "id": "IgpELdm3_Okx"
      }
    },
    {
      "cell_type": "code",
      "source": [
        "!pip install flair"
      ],
      "metadata": {
        "colab": {
          "base_uri": "https://localhost:8080/",
          "height": 1000
        },
        "id": "-zBD7dNM-CBW",
        "outputId": "299f3d88-16a5-4162-96fd-2cc886df3d73"
      },
      "execution_count": 87,
      "outputs": [
        {
          "output_type": "stream",
          "name": "stdout",
          "text": [
            "Collecting flair\n",
            "  Downloading flair-0.10-py3-none-any.whl (322 kB)\n",
            "\u001b[?25l\r\u001b[K     |█                               | 10 kB 32.3 MB/s eta 0:00:01\r\u001b[K     |██                              | 20 kB 9.9 MB/s eta 0:00:01\r\u001b[K     |███                             | 30 kB 8.4 MB/s eta 0:00:01\r\u001b[K     |████                            | 40 kB 4.4 MB/s eta 0:00:01\r\u001b[K     |█████                           | 51 kB 4.4 MB/s eta 0:00:01\r\u001b[K     |██████                          | 61 kB 5.2 MB/s eta 0:00:01\r\u001b[K     |███████                         | 71 kB 5.6 MB/s eta 0:00:01\r\u001b[K     |████████▏                       | 81 kB 5.3 MB/s eta 0:00:01\r\u001b[K     |█████████▏                      | 92 kB 5.9 MB/s eta 0:00:01\r\u001b[K     |██████████▏                     | 102 kB 5.2 MB/s eta 0:00:01\r\u001b[K     |███████████▏                    | 112 kB 5.2 MB/s eta 0:00:01\r\u001b[K     |████████████▏                   | 122 kB 5.2 MB/s eta 0:00:01\r\u001b[K     |█████████████▏                  | 133 kB 5.2 MB/s eta 0:00:01\r\u001b[K     |██████████████▏                 | 143 kB 5.2 MB/s eta 0:00:01\r\u001b[K     |███████████████▎                | 153 kB 5.2 MB/s eta 0:00:01\r\u001b[K     |████████████████▎               | 163 kB 5.2 MB/s eta 0:00:01\r\u001b[K     |█████████████████▎              | 174 kB 5.2 MB/s eta 0:00:01\r\u001b[K     |██████████████████▎             | 184 kB 5.2 MB/s eta 0:00:01\r\u001b[K     |███████████████████▎            | 194 kB 5.2 MB/s eta 0:00:01\r\u001b[K     |████████████████████▎           | 204 kB 5.2 MB/s eta 0:00:01\r\u001b[K     |█████████████████████▎          | 215 kB 5.2 MB/s eta 0:00:01\r\u001b[K     |██████████████████████▍         | 225 kB 5.2 MB/s eta 0:00:01\r\u001b[K     |███████████████████████▍        | 235 kB 5.2 MB/s eta 0:00:01\r\u001b[K     |████████████████████████▍       | 245 kB 5.2 MB/s eta 0:00:01\r\u001b[K     |█████████████████████████▍      | 256 kB 5.2 MB/s eta 0:00:01\r\u001b[K     |██████████████████████████▍     | 266 kB 5.2 MB/s eta 0:00:01\r\u001b[K     |███████████████████████████▍    | 276 kB 5.2 MB/s eta 0:00:01\r\u001b[K     |████████████████████████████▍   | 286 kB 5.2 MB/s eta 0:00:01\r\u001b[K     |█████████████████████████████▌  | 296 kB 5.2 MB/s eta 0:00:01\r\u001b[K     |██████████████████████████████▌ | 307 kB 5.2 MB/s eta 0:00:01\r\u001b[K     |███████████████████████████████▌| 317 kB 5.2 MB/s eta 0:00:01\r\u001b[K     |████████████████████████████████| 322 kB 5.2 MB/s \n",
            "\u001b[?25hRequirement already satisfied: matplotlib>=2.2.3 in /usr/local/lib/python3.7/dist-packages (from flair) (3.2.2)\n",
            "Requirement already satisfied: python-dateutil>=2.6.1 in /usr/local/lib/python3.7/dist-packages (from flair) (2.8.2)\n",
            "Requirement already satisfied: lxml in /usr/local/lib/python3.7/dist-packages (from flair) (4.2.6)\n",
            "Collecting gdown==3.12.2\n",
            "  Downloading gdown-3.12.2.tar.gz (8.2 kB)\n",
            "  Installing build dependencies ... \u001b[?25l\u001b[?25hdone\n",
            "  Getting requirements to build wheel ... \u001b[?25l\u001b[?25hdone\n",
            "    Preparing wheel metadata ... \u001b[?25l\u001b[?25hdone\n",
            "Collecting mpld3==0.3\n",
            "  Downloading mpld3-0.3.tar.gz (788 kB)\n",
            "\u001b[K     |████████████████████████████████| 788 kB 50.8 MB/s \n",
            "\u001b[?25hCollecting segtok>=1.5.7\n",
            "  Downloading segtok-1.5.11-py3-none-any.whl (24 kB)\n",
            "Requirement already satisfied: torch!=1.8,>=1.5.0 in /usr/local/lib/python3.7/dist-packages (from flair) (1.10.0+cu111)\n",
            "Requirement already satisfied: scikit-learn>=0.21.3 in /usr/local/lib/python3.7/dist-packages (from flair) (1.0.2)\n",
            "Requirement already satisfied: gensim>=3.4.0 in /usr/local/lib/python3.7/dist-packages (from flair) (4.1.2)\n",
            "Collecting ftfy\n",
            "  Downloading ftfy-6.1.1-py3-none-any.whl (53 kB)\n",
            "\u001b[K     |████████████████████████████████| 53 kB 1.7 MB/s \n",
            "\u001b[?25hCollecting sentencepiece==0.1.95\n",
            "  Downloading sentencepiece-0.1.95-cp37-cp37m-manylinux2014_x86_64.whl (1.2 MB)\n",
            "\u001b[K     |████████████████████████████████| 1.2 MB 40.9 MB/s \n",
            "\u001b[?25hCollecting janome\n",
            "  Downloading Janome-0.4.2-py2.py3-none-any.whl (19.7 MB)\n",
            "\u001b[K     |████████████████████████████████| 19.7 MB 1.2 MB/s \n",
            "\u001b[?25hRequirement already satisfied: tabulate in /usr/local/lib/python3.7/dist-packages (from flair) (0.8.9)\n",
            "Requirement already satisfied: tqdm>=4.26.0 in /usr/local/lib/python3.7/dist-packages (from flair) (4.63.0)\n",
            "Requirement already satisfied: regex in /usr/local/lib/python3.7/dist-packages (from flair) (2019.12.20)\n",
            "Collecting langdetect\n",
            "  Downloading langdetect-1.0.9.tar.gz (981 kB)\n",
            "\u001b[K     |████████████████████████████████| 981 kB 44.1 MB/s \n",
            "\u001b[?25hRequirement already satisfied: transformers>=4.0.0 in /usr/local/lib/python3.7/dist-packages (from flair) (4.16.2)\n",
            "Collecting more-itertools~=8.8.0\n",
            "  Downloading more_itertools-8.8.0-py3-none-any.whl (48 kB)\n",
            "\u001b[K     |████████████████████████████████| 48 kB 5.6 MB/s \n",
            "\u001b[?25hCollecting sqlitedict>=1.6.0\n",
            "  Downloading sqlitedict-2.0.0.tar.gz (46 kB)\n",
            "\u001b[K     |████████████████████████████████| 46 kB 4.3 MB/s \n",
            "\u001b[?25hCollecting wikipedia-api\n",
            "  Downloading Wikipedia-API-0.5.4.tar.gz (18 kB)\n",
            "Collecting bpemb>=0.3.2\n",
            "  Downloading bpemb-0.3.3-py3-none-any.whl (19 kB)\n",
            "Collecting conllu>=4.0\n",
            "  Downloading conllu-4.4.1-py2.py3-none-any.whl (15 kB)\n",
            "Collecting deprecated>=1.2.4\n",
            "  Downloading Deprecated-1.2.13-py2.py3-none-any.whl (9.6 kB)\n",
            "Collecting konoha<5.0.0,>=4.0.0\n",
            "  Downloading konoha-4.6.5-py3-none-any.whl (20 kB)\n",
            "Requirement already satisfied: huggingface-hub in /usr/local/lib/python3.7/dist-packages (from flair) (0.4.0)\n",
            "Requirement already satisfied: six in /usr/local/lib/python3.7/dist-packages (from gdown==3.12.2->flair) (1.15.0)\n",
            "Requirement already satisfied: requests[socks] in /usr/local/lib/python3.7/dist-packages (from gdown==3.12.2->flair) (2.23.0)\n",
            "Requirement already satisfied: filelock in /usr/local/lib/python3.7/dist-packages (from gdown==3.12.2->flair) (3.6.0)\n",
            "Requirement already satisfied: numpy in /usr/local/lib/python3.7/dist-packages (from bpemb>=0.3.2->flair) (1.21.5)\n",
            "Requirement already satisfied: wrapt<2,>=1.10 in /usr/local/lib/python3.7/dist-packages (from deprecated>=1.2.4->flair) (1.14.0)\n",
            "Requirement already satisfied: scipy>=0.18.1 in /usr/local/lib/python3.7/dist-packages (from gensim>=3.4.0->flair) (1.4.1)\n",
            "Requirement already satisfied: smart-open>=1.8.1 in /usr/local/lib/python3.7/dist-packages (from gensim>=3.4.0->flair) (5.2.1)\n",
            "Collecting importlib-metadata<4.0.0,>=3.7.0\n",
            "  Downloading importlib_metadata-3.10.1-py3-none-any.whl (14 kB)\n",
            "Collecting requests\n",
            "  Downloading requests-2.27.1-py2.py3-none-any.whl (63 kB)\n",
            "\u001b[K     |████████████████████████████████| 63 kB 1.8 MB/s \n",
            "\u001b[?25hCollecting overrides<4.0.0,>=3.0.0\n",
            "  Downloading overrides-3.1.0.tar.gz (11 kB)\n",
            "Requirement already satisfied: zipp>=0.5 in /usr/local/lib/python3.7/dist-packages (from importlib-metadata<4.0.0,>=3.7.0->konoha<5.0.0,>=4.0.0->flair) (3.7.0)\n",
            "Requirement already satisfied: typing-extensions>=3.6.4 in /usr/local/lib/python3.7/dist-packages (from importlib-metadata<4.0.0,>=3.7.0->konoha<5.0.0,>=4.0.0->flair) (3.10.0.2)\n",
            "Requirement already satisfied: pyparsing!=2.0.4,!=2.1.2,!=2.1.6,>=2.0.1 in /usr/local/lib/python3.7/dist-packages (from matplotlib>=2.2.3->flair) (3.0.7)\n",
            "Requirement already satisfied: kiwisolver>=1.0.1 in /usr/local/lib/python3.7/dist-packages (from matplotlib>=2.2.3->flair) (1.4.0)\n",
            "Requirement already satisfied: cycler>=0.10 in /usr/local/lib/python3.7/dist-packages (from matplotlib>=2.2.3->flair) (0.11.0)\n",
            "Requirement already satisfied: charset-normalizer~=2.0.0 in /usr/local/lib/python3.7/dist-packages (from requests->bpemb>=0.3.2->flair) (2.0.12)\n",
            "Requirement already satisfied: idna<4,>=2.5 in /usr/local/lib/python3.7/dist-packages (from requests->bpemb>=0.3.2->flair) (2.10)\n",
            "Requirement already satisfied: urllib3<1.27,>=1.21.1 in /usr/local/lib/python3.7/dist-packages (from requests->bpemb>=0.3.2->flair) (1.24.3)\n",
            "Requirement already satisfied: certifi>=2017.4.17 in /usr/local/lib/python3.7/dist-packages (from requests->bpemb>=0.3.2->flair) (2021.10.8)\n",
            "Requirement already satisfied: joblib>=0.11 in /usr/local/lib/python3.7/dist-packages (from scikit-learn>=0.21.3->flair) (1.1.0)\n",
            "Requirement already satisfied: threadpoolctl>=2.0.0 in /usr/local/lib/python3.7/dist-packages (from scikit-learn>=0.21.3->flair) (3.1.0)\n",
            "Requirement already satisfied: pyyaml>=5.1 in /usr/local/lib/python3.7/dist-packages (from transformers>=4.0.0->flair) (5.4.1)\n",
            "Requirement already satisfied: sacremoses in /usr/local/lib/python3.7/dist-packages (from transformers>=4.0.0->flair) (0.0.49)\n",
            "Requirement already satisfied: packaging>=20.0 in /usr/local/lib/python3.7/dist-packages (from transformers>=4.0.0->flair) (21.3)\n",
            "Requirement already satisfied: tokenizers!=0.11.3,>=0.10.1 in /usr/local/lib/python3.7/dist-packages (from transformers>=4.0.0->flair) (0.11.6)\n",
            "Requirement already satisfied: wcwidth>=0.2.5 in /usr/local/lib/python3.7/dist-packages (from ftfy->flair) (0.2.5)\n",
            "Requirement already satisfied: PySocks!=1.5.7,>=1.5.6 in /usr/local/lib/python3.7/dist-packages (from requests->bpemb>=0.3.2->flair) (1.7.1)\n",
            "Requirement already satisfied: click in /usr/local/lib/python3.7/dist-packages (from sacremoses->transformers>=4.0.0->flair) (7.1.2)\n",
            "Building wheels for collected packages: gdown, mpld3, overrides, sqlitedict, langdetect, wikipedia-api\n",
            "  Building wheel for gdown (PEP 517) ... \u001b[?25l\u001b[?25hdone\n",
            "  Created wheel for gdown: filename=gdown-3.12.2-py3-none-any.whl size=9692 sha256=d64995e352f010003a469f0142782d9c02da189f892dcf5eea693954159543fe\n",
            "  Stored in directory: /root/.cache/pip/wheels/ba/e0/7e/726e872a53f7358b4b96a9975b04e98113b005cd8609a63abc\n",
            "  Building wheel for mpld3 (setup.py) ... \u001b[?25l\u001b[?25hdone\n",
            "  Created wheel for mpld3: filename=mpld3-0.3-py3-none-any.whl size=116702 sha256=73e80df905c873dbfe3fc709292d0ceac4d5bed519cc32b30e2e4896fe4b9099\n",
            "  Stored in directory: /root/.cache/pip/wheels/26/70/6a/1c79e59951a41b4045497da187b2724f5659ca64033cf4548e\n",
            "  Building wheel for overrides (setup.py) ... \u001b[?25l\u001b[?25hdone\n",
            "  Created wheel for overrides: filename=overrides-3.1.0-py3-none-any.whl size=10187 sha256=c60d4d93e8e56da66b51f49d162ff944527fd31ec882f457670aefc364096e8b\n",
            "  Stored in directory: /root/.cache/pip/wheels/3a/0d/38/01a9bc6e20dcfaf0a6a7b552d03137558ba1c38aea47644682\n",
            "  Building wheel for sqlitedict (setup.py) ... \u001b[?25l\u001b[?25hdone\n",
            "  Created wheel for sqlitedict: filename=sqlitedict-2.0.0-py3-none-any.whl size=15736 sha256=85b78f1df49074ba00730f67261f455db06d51c68e2d1e55d45379528ca5150b\n",
            "  Stored in directory: /root/.cache/pip/wheels/96/dd/2e/0ed4a25cb73fc30c7ea8d10b50acb7226175736067e40a7ea3\n",
            "  Building wheel for langdetect (setup.py) ... \u001b[?25l\u001b[?25hdone\n",
            "  Created wheel for langdetect: filename=langdetect-1.0.9-py3-none-any.whl size=993242 sha256=9fc25c07410a3361a9375ae1a94ba2f66a76b55efd151c4e9c1260e0e4e5121a\n",
            "  Stored in directory: /root/.cache/pip/wheels/c5/96/8a/f90c59ed25d75e50a8c10a1b1c2d4c402e4dacfa87f3aff36a\n",
            "  Building wheel for wikipedia-api (setup.py) ... \u001b[?25l\u001b[?25hdone\n",
            "  Created wheel for wikipedia-api: filename=Wikipedia_API-0.5.4-py3-none-any.whl size=13477 sha256=096806085bd67c435015b441afbaea2f976d99370af65beb9c4f147423010d84\n",
            "  Stored in directory: /root/.cache/pip/wheels/d3/24/56/58ba93cf78be162451144e7a9889603f437976ef1ae7013d04\n",
            "Successfully built gdown mpld3 overrides sqlitedict langdetect wikipedia-api\n",
            "Installing collected packages: requests, importlib-metadata, sentencepiece, overrides, wikipedia-api, sqlitedict, segtok, mpld3, more-itertools, langdetect, konoha, janome, gdown, ftfy, deprecated, conllu, bpemb, flair\n",
            "  Attempting uninstall: requests\n",
            "    Found existing installation: requests 2.23.0\n",
            "    Uninstalling requests-2.23.0:\n",
            "      Successfully uninstalled requests-2.23.0\n",
            "  Attempting uninstall: importlib-metadata\n",
            "    Found existing installation: importlib-metadata 4.11.3\n",
            "    Uninstalling importlib-metadata-4.11.3:\n",
            "      Successfully uninstalled importlib-metadata-4.11.3\n",
            "  Attempting uninstall: sentencepiece\n",
            "    Found existing installation: sentencepiece 0.1.96\n",
            "    Uninstalling sentencepiece-0.1.96:\n",
            "      Successfully uninstalled sentencepiece-0.1.96\n",
            "  Attempting uninstall: more-itertools\n",
            "    Found existing installation: more-itertools 8.12.0\n",
            "    Uninstalling more-itertools-8.12.0:\n",
            "      Successfully uninstalled more-itertools-8.12.0\n",
            "  Attempting uninstall: gdown\n",
            "    Found existing installation: gdown 4.2.2\n",
            "    Uninstalling gdown-4.2.2:\n",
            "      Successfully uninstalled gdown-4.2.2\n",
            "\u001b[31mERROR: pip's dependency resolver does not currently take into account all the packages that are installed. This behaviour is the source of the following dependency conflicts.\n",
            "markdown 3.3.6 requires importlib-metadata>=4.4; python_version < \"3.10\", but you have importlib-metadata 3.10.1 which is incompatible.\n",
            "google-colab 1.0.0 requires ipython~=5.5.0, but you have ipython 7.16.1 which is incompatible.\n",
            "google-colab 1.0.0 requires requests~=2.23.0, but you have requests 2.27.1 which is incompatible.\n",
            "datascience 0.10.6 requires folium==0.2.1, but you have folium 0.8.3 which is incompatible.\u001b[0m\n",
            "Successfully installed bpemb-0.3.3 conllu-4.4.1 deprecated-1.2.13 flair-0.10 ftfy-6.1.1 gdown-3.12.2 importlib-metadata-3.10.1 janome-0.4.2 konoha-4.6.5 langdetect-1.0.9 more-itertools-8.8.0 mpld3-0.3 overrides-3.1.0 requests-2.27.1 segtok-1.5.11 sentencepiece-0.1.95 sqlitedict-2.0.0 wikipedia-api-0.5.4\n"
          ]
        },
        {
          "output_type": "display_data",
          "data": {
            "application/vnd.colab-display-data+json": {
              "pip_warning": {
                "packages": [
                  "importlib_metadata",
                  "more_itertools",
                  "requests",
                  "sentencepiece"
                ]
              }
            }
          },
          "metadata": {}
        }
      ]
    },
    {
      "cell_type": "code",
      "source": [
        "from flair.data import Sentence\n",
        "from flair.models import SequenceTagger\n",
        "\n",
        "# load tagger\n",
        "tagger = SequenceTagger.load(\"flair/pos-english\")\n",
        "\n",
        "# make example sentence\n",
        "sentence = Sentence(input_text)\n",
        "\n",
        "# predict NER tags\n",
        "tagger.predict(sentence)\n",
        "\n",
        "# print sentence\n",
        "print(sentence)\n",
        "\n",
        "# print predicted NER spans\n",
        "print('The following NER tags are found:')\n",
        "# iterate over entities and print\n",
        "for entity in sentence.get_spans('pos'):\n",
        "    print(entity)\n"
      ],
      "metadata": {
        "colab": {
          "base_uri": "https://localhost:8080/",
          "height": 1000,
          "referenced_widgets": [
            "be890195358d484abab70cd67fc58706",
            "38e3f8625c62412385e057c755ddf05f",
            "9c5c317c63a9416d86e3ae7ade2505dd",
            "ea5fe1d0d0a348028858d4d03de4a891",
            "ba3531c7717d41a0bc0479f0853d6a54",
            "470717c2869249a1b05283c8cca15b2c",
            "e3d351c9c83142959983030e2c437e62",
            "3bf2dd5466724426bb3665d76c2a8ff1",
            "9de3f0a7610743c3994c4a57845da4b8",
            "5f58c1b3375243749ecaf76e93d35458",
            "28fa13800e154dcb8a700dd79d39902e"
          ]
        },
        "id": "Qj0hJ7z1-CEB",
        "outputId": "b60223d0-4801-46a8-e7cb-9138f095275b"
      },
      "execution_count": 88,
      "outputs": [
        {
          "output_type": "display_data",
          "data": {
            "text/plain": [
              "Downloading:   0%|          | 0.00/249M [00:00<?, ?B/s]"
            ],
            "application/vnd.jupyter.widget-view+json": {
              "version_major": 2,
              "version_minor": 0,
              "model_id": "be890195358d484abab70cd67fc58706"
            }
          },
          "metadata": {}
        },
        {
          "output_type": "stream",
          "name": "stdout",
          "text": [
            "2022-03-27 00:56:46,604 loading file /root/.flair/models/pos-english/a9a73f6cd878edce8a0fa518db76f441f1cc49c2525b2b4557af278ec2f0659e.121306ea62993d04cd1978398b68396931a39eb47754c8a06a87f325ea70ac63\n",
            "Sentence: \"I am sure some bashers of Pens fans are pretty confused about the lack of any kind of posts about the recent Pens massacre of the Devils . Actually , I am bit puzzled too and a bit relieved . However , I am going to put an end to non-PIttsburghers' relief with a bit of praise for the Pens . Man , they are killing those Devils worse than I thought . Jagr just showed you why he is much better than his regular season stats . He is also a lot fo fun to watch in the playoffs . Bowman should let JAgr have a lot of fun in the next couple of games since the Pens are going to beat the pulp out of Jersey anyway . I was very disappointed not to see the Islanders lose the final regular season game . PENS RULE !! !\"   [− Tokens: 150  − Token-Labels: \"I <PRP> am <VBP> sure <JJ> some <DT> bashers <NNS> of <IN> Pens <NNP> fans <NNS> are <VBP> pretty <RB> confused <JJ> about <IN> the <DT> lack <NN> of <IN> any <DT> kind <NN> of <IN> posts <NNS> about <IN> the <DT> recent <JJ> Pens <NNP> massacre <NN> of <IN> the <DT> Devils <NNPS> . <,> Actually <RB> , <,> I <PRP> am <VBP> bit <NN> puzzled <JJ> too <RB> and <CC> a <DT> bit <NN> relieved <JJ> . <.> However <RB> , <,> I <PRP> am <VBP> going <VBG> to <TO> put <VB> an <DT> end <NN> to <IN> non-PIttsburghers' <JJ> relief <NN> with <IN> a <DT> bit <NN> of <IN> praise <NN> for <IN> the <DT> Pens <NNPS> . <.> Man <UH> , <,> they <PRP> are <VBP> killing <VBG> those <DT> Devils <NNPS> worse <JJR> than <IN> I <PRP> thought <VBD> . <.> Jagr <NNP> just <RB> showed <VBD> you <PRP> why <WRB> he <PRP> is <VBZ> much <RB> better <JJR> than <IN> his <PRP$> regular <JJ> season <NN> stats <NNS> . <.> He <PRP> is <VBZ> also <RB> a <DT> lot <NN> fo <RB> fun <NN> to <TO> watch <VB> in <IN> the <DT> playoffs <NNS> . <.> Bowman <NNP> should <MD> let <VB> JAgr <NNP> have <VB> a <DT> lot <NN> of <IN> fun <NN> in <IN> the <DT> next <JJ> couple <NN> of <IN> games <NNS> since <IN> the <DT> Pens <NNPS> are <VBP> going <VBG> to <TO> beat <VB> the <DT> pulp <NN> out <IN> of <IN> Jersey <NNP> anyway <RB> . <.> I <PRP> was <VBD> very <RB> disappointed <JJ> not <RB> to <TO> see <VB> the <DT> Islanders <NNPS> lose <VB> the <DT> final <JJ> regular <JJ> season <NN> game <NN> . <.> PENS <NNS> RULE <VBP> !! <.> ! <.>\"]\n",
            "The following NER tags are found:\n",
            "Span [1]: \"I\"   [− Labels: PRP (1.0)]\n",
            "Span [2]: \"am\"   [− Labels: VBP (1.0)]\n",
            "Span [3]: \"sure\"   [− Labels: JJ (1.0)]\n",
            "Span [4]: \"some\"   [− Labels: DT (0.9998)]\n",
            "Span [5]: \"bashers\"   [− Labels: NNS (1.0)]\n",
            "Span [6]: \"of\"   [− Labels: IN (1.0)]\n",
            "Span [7]: \"Pens\"   [− Labels: NNP (0.661)]\n",
            "Span [8]: \"fans\"   [− Labels: NNS (1.0)]\n",
            "Span [9]: \"are\"   [− Labels: VBP (1.0)]\n",
            "Span [10]: \"pretty\"   [− Labels: RB (1.0)]\n",
            "Span [11]: \"confused\"   [− Labels: JJ (0.9962)]\n",
            "Span [12]: \"about\"   [− Labels: IN (1.0)]\n",
            "Span [13]: \"the\"   [− Labels: DT (1.0)]\n",
            "Span [14]: \"lack\"   [− Labels: NN (1.0)]\n",
            "Span [15]: \"of\"   [− Labels: IN (1.0)]\n",
            "Span [16]: \"any\"   [− Labels: DT (1.0)]\n",
            "Span [17]: \"kind\"   [− Labels: NN (0.9999)]\n",
            "Span [18]: \"of\"   [− Labels: IN (1.0)]\n",
            "Span [19]: \"posts\"   [− Labels: NNS (1.0)]\n",
            "Span [20]: \"about\"   [− Labels: IN (1.0)]\n",
            "Span [21]: \"the\"   [− Labels: DT (1.0)]\n",
            "Span [22]: \"recent\"   [− Labels: JJ (1.0)]\n",
            "Span [23]: \"Pens\"   [− Labels: NNP (0.9596)]\n",
            "Span [24]: \"massacre\"   [− Labels: NN (0.9998)]\n",
            "Span [25]: \"of\"   [− Labels: IN (1.0)]\n",
            "Span [26]: \"the\"   [− Labels: DT (1.0)]\n",
            "Span [27]: \"Devils\"   [− Labels: NNPS (0.9986)]\n",
            "Span [28]: \".\"   [− Labels: , (0.8069)]\n",
            "Span [29]: \"Actually\"   [− Labels: RB (1.0)]\n",
            "Span [30]: \",\"   [− Labels: , (1.0)]\n",
            "Span [31]: \"I\"   [− Labels: PRP (1.0)]\n",
            "Span [32]: \"am\"   [− Labels: VBP (1.0)]\n",
            "Span [33]: \"bit\"   [− Labels: NN (0.9999)]\n",
            "Span [34]: \"puzzled\"   [− Labels: JJ (0.9988)]\n",
            "Span [35]: \"too\"   [− Labels: RB (1.0)]\n",
            "Span [36]: \"and\"   [− Labels: CC (1.0)]\n",
            "Span [37]: \"a\"   [− Labels: DT (1.0)]\n",
            "Span [38]: \"bit\"   [− Labels: NN (1.0)]\n",
            "Span [39]: \"relieved\"   [− Labels: JJ (1.0)]\n",
            "Span [40]: \".\"   [− Labels: . (0.7049)]\n",
            "Span [41]: \"However\"   [− Labels: RB (1.0)]\n",
            "Span [42]: \",\"   [− Labels: , (1.0)]\n",
            "Span [43]: \"I\"   [− Labels: PRP (1.0)]\n",
            "Span [44]: \"am\"   [− Labels: VBP (1.0)]\n",
            "Span [45]: \"going\"   [− Labels: VBG (1.0)]\n",
            "Span [46]: \"to\"   [− Labels: TO (0.9994)]\n",
            "Span [47]: \"put\"   [− Labels: VB (1.0)]\n",
            "Span [48]: \"an\"   [− Labels: DT (1.0)]\n",
            "Span [49]: \"end\"   [− Labels: NN (1.0)]\n",
            "Span [50]: \"to\"   [− Labels: IN (1.0)]\n",
            "Span [51]: \"non-PIttsburghers'\"   [− Labels: JJ (0.8899)]\n",
            "Span [52]: \"relief\"   [− Labels: NN (1.0)]\n",
            "Span [53]: \"with\"   [− Labels: IN (1.0)]\n",
            "Span [54]: \"a\"   [− Labels: DT (1.0)]\n",
            "Span [55]: \"bit\"   [− Labels: NN (0.9999)]\n",
            "Span [56]: \"of\"   [− Labels: IN (1.0)]\n",
            "Span [57]: \"praise\"   [− Labels: NN (1.0)]\n",
            "Span [58]: \"for\"   [− Labels: IN (1.0)]\n",
            "Span [59]: \"the\"   [− Labels: DT (1.0)]\n",
            "Span [60]: \"Pens\"   [− Labels: NNPS (0.8783)]\n",
            "Span [61]: \".\"   [− Labels: . (0.9998)]\n",
            "Span [62]: \"Man\"   [− Labels: UH (0.999)]\n",
            "Span [63]: \",\"   [− Labels: , (1.0)]\n",
            "Span [64]: \"they\"   [− Labels: PRP (1.0)]\n",
            "Span [65]: \"are\"   [− Labels: VBP (1.0)]\n",
            "Span [66]: \"killing\"   [− Labels: VBG (1.0)]\n",
            "Span [67]: \"those\"   [− Labels: DT (1.0)]\n",
            "Span [68]: \"Devils\"   [− Labels: NNPS (0.9114)]\n",
            "Span [69]: \"worse\"   [− Labels: JJR (0.9993)]\n",
            "Span [70]: \"than\"   [− Labels: IN (1.0)]\n",
            "Span [71]: \"I\"   [− Labels: PRP (1.0)]\n",
            "Span [72]: \"thought\"   [− Labels: VBD (1.0)]\n",
            "Span [73]: \".\"   [− Labels: . (0.9944)]\n",
            "Span [74]: \"Jagr\"   [− Labels: NNP (1.0)]\n",
            "Span [75]: \"just\"   [− Labels: RB (1.0)]\n",
            "Span [76]: \"showed\"   [− Labels: VBD (1.0)]\n",
            "Span [77]: \"you\"   [− Labels: PRP (1.0)]\n",
            "Span [78]: \"why\"   [− Labels: WRB (1.0)]\n",
            "Span [79]: \"he\"   [− Labels: PRP (1.0)]\n",
            "Span [80]: \"is\"   [− Labels: VBZ (1.0)]\n",
            "Span [81]: \"much\"   [− Labels: RB (0.9997)]\n",
            "Span [82]: \"better\"   [− Labels: JJR (0.99)]\n",
            "Span [83]: \"than\"   [− Labels: IN (1.0)]\n",
            "Span [84]: \"his\"   [− Labels: PRP$ (1.0)]\n",
            "Span [85]: \"regular\"   [− Labels: JJ (1.0)]\n",
            "Span [86]: \"season\"   [− Labels: NN (1.0)]\n",
            "Span [87]: \"stats\"   [− Labels: NNS (0.9992)]\n",
            "Span [88]: \".\"   [− Labels: . (0.9338)]\n",
            "Span [89]: \"He\"   [− Labels: PRP (1.0)]\n",
            "Span [90]: \"is\"   [− Labels: VBZ (1.0)]\n",
            "Span [91]: \"also\"   [− Labels: RB (1.0)]\n",
            "Span [92]: \"a\"   [− Labels: DT (1.0)]\n",
            "Span [93]: \"lot\"   [− Labels: NN (0.9999)]\n",
            "Span [94]: \"fo\"   [− Labels: RB (0.9583)]\n",
            "Span [95]: \"fun\"   [− Labels: NN (0.8913)]\n",
            "Span [96]: \"to\"   [− Labels: TO (0.9999)]\n",
            "Span [97]: \"watch\"   [− Labels: VB (1.0)]\n",
            "Span [98]: \"in\"   [− Labels: IN (1.0)]\n",
            "Span [99]: \"the\"   [− Labels: DT (1.0)]\n",
            "Span [100]: \"playoffs\"   [− Labels: NNS (1.0)]\n",
            "Span [101]: \".\"   [− Labels: . (1.0)]\n",
            "Span [102]: \"Bowman\"   [− Labels: NNP (1.0)]\n",
            "Span [103]: \"should\"   [− Labels: MD (1.0)]\n",
            "Span [104]: \"let\"   [− Labels: VB (1.0)]\n",
            "Span [105]: \"JAgr\"   [− Labels: NNP (0.9999)]\n",
            "Span [106]: \"have\"   [− Labels: VB (1.0)]\n",
            "Span [107]: \"a\"   [− Labels: DT (1.0)]\n",
            "Span [108]: \"lot\"   [− Labels: NN (1.0)]\n",
            "Span [109]: \"of\"   [− Labels: IN (1.0)]\n",
            "Span [110]: \"fun\"   [− Labels: NN (1.0)]\n",
            "Span [111]: \"in\"   [− Labels: IN (1.0)]\n",
            "Span [112]: \"the\"   [− Labels: DT (1.0)]\n",
            "Span [113]: \"next\"   [− Labels: JJ (0.9988)]\n",
            "Span [114]: \"couple\"   [− Labels: NN (1.0)]\n",
            "Span [115]: \"of\"   [− Labels: IN (1.0)]\n",
            "Span [116]: \"games\"   [− Labels: NNS (1.0)]\n",
            "Span [117]: \"since\"   [− Labels: IN (1.0)]\n",
            "Span [118]: \"the\"   [− Labels: DT (1.0)]\n",
            "Span [119]: \"Pens\"   [− Labels: NNPS (0.6911)]\n",
            "Span [120]: \"are\"   [− Labels: VBP (1.0)]\n",
            "Span [121]: \"going\"   [− Labels: VBG (1.0)]\n",
            "Span [122]: \"to\"   [− Labels: TO (1.0)]\n",
            "Span [123]: \"beat\"   [− Labels: VB (1.0)]\n",
            "Span [124]: \"the\"   [− Labels: DT (1.0)]\n",
            "Span [125]: \"pulp\"   [− Labels: NN (0.9999)]\n",
            "Span [126]: \"out\"   [− Labels: IN (0.9995)]\n",
            "Span [127]: \"of\"   [− Labels: IN (1.0)]\n",
            "Span [128]: \"Jersey\"   [− Labels: NNP (1.0)]\n",
            "Span [129]: \"anyway\"   [− Labels: RB (0.9998)]\n",
            "Span [130]: \".\"   [− Labels: . (0.8149)]\n",
            "Span [131]: \"I\"   [− Labels: PRP (1.0)]\n",
            "Span [132]: \"was\"   [− Labels: VBD (1.0)]\n",
            "Span [133]: \"very\"   [− Labels: RB (1.0)]\n",
            "Span [134]: \"disappointed\"   [− Labels: JJ (0.9914)]\n",
            "Span [135]: \"not\"   [− Labels: RB (1.0)]\n",
            "Span [136]: \"to\"   [− Labels: TO (1.0)]\n",
            "Span [137]: \"see\"   [− Labels: VB (1.0)]\n",
            "Span [138]: \"the\"   [− Labels: DT (1.0)]\n",
            "Span [139]: \"Islanders\"   [− Labels: NNPS (0.8348)]\n",
            "Span [140]: \"lose\"   [− Labels: VB (0.9997)]\n",
            "Span [141]: \"the\"   [− Labels: DT (1.0)]\n",
            "Span [142]: \"final\"   [− Labels: JJ (0.9971)]\n",
            "Span [143]: \"regular\"   [− Labels: JJ (0.9995)]\n",
            "Span [144]: \"season\"   [− Labels: NN (1.0)]\n",
            "Span [145]: \"game\"   [− Labels: NN (1.0)]\n",
            "Span [146]: \".\"   [− Labels: . (0.9996)]\n",
            "Span [147]: \"PENS\"   [− Labels: NNS (0.778)]\n",
            "Span [148]: \"RULE\"   [− Labels: VBP (0.9116)]\n",
            "Span [149]: \"!!\"   [− Labels: . (0.9359)]\n",
            "Span [150]: \"!\"   [− Labels: . (0.9494)]\n"
          ]
        }
      ]
    },
    {
      "cell_type": "markdown",
      "source": [
        "tag\tmeaning\n",
        "ADD\tEmail\n",
        "AFX\tAffix\n",
        "CC\tCoordinating conjunction\n",
        "CD\tCardinal number\n",
        "DT\tDeterminer\n",
        "EX\tExistential there\n",
        "FW\tForeign word\n",
        "HYPH\tHyphen\n",
        "IN\tPreposition or subordinating conjunction\n",
        "JJ\tAdjective\n",
        "JJR\tAdjective, comparative\n",
        "JJS\tAdjective, superlative\n",
        "LS\tList item marker\n",
        "MD\tModal\n",
        "NFP\tSuperfluous punctuation\n",
        "NN\tNoun, singular or mass\n",
        "NNP\tProper noun, singular\n",
        "NNPS\tProper noun, plural\n",
        "NNS\tNoun, plural\n",
        "PDT\tPredeterminer\n",
        "POS\tPossessive ending\n",
        "PRP\tPersonal pronoun\n",
        "PRP$\tPossessive pronoun\n",
        "RB\tAdverb\n",
        "RBR\tAdverb, comparative\n",
        "RBS\tAdverb, superlative\n",
        "RP\tParticle\n",
        "SYM\tSymbol\n",
        "TO\tto\n",
        "UH\tInterjection\n",
        "VB\tVerb, base form\n",
        "VBD\tVerb, past tense\n",
        "VBG\tVerb, gerund or present participle\n",
        "VBN\tVerb, past participle\n",
        "VBP\tVerb, non-3rd person singular present\n",
        "VBZ\tVerb, 3rd person singular present\n",
        "WDT\tWh-determiner\n",
        "WP\tWh-pronoun\n",
        "WP$\tPossessive wh-pronoun\n",
        "WRB\tWh-adverb\n",
        "XX\tUnknown\n",
        "\n",
        "Consider verb related tags as relations"
      ],
      "metadata": {
        "id": "1ofi8BAO_083"
      }
    },
    {
      "cell_type": "code",
      "source": [
        "# tag\tmeaning\n",
        "# ADD\tEmail\n",
        "# AFX\tAffix\n",
        "# CC\tCoordinating conjunction\n",
        "# CD\tCardinal number\n",
        "# DT\tDeterminer\n",
        "# EX\tExistential there\n",
        "# FW\tForeign word\n",
        "# HYPH\tHyphen\n",
        "# IN\tPreposition or subordinating conjunction\n",
        "# JJ\tAdjective\n",
        "# JJR\tAdjective, comparative\n",
        "# JJS\tAdjective, superlative\n",
        "# LS\tList item marker\n",
        "# MD\tModal\n",
        "# NFP\tSuperfluous punctuation\n",
        "# NN\tNoun, singular or mass\n",
        "# NNP\tProper noun, singular\n",
        "# NNPS\tProper noun, plural\n",
        "# NNS\tNoun, plural\n",
        "# PDT\tPredeterminer\n",
        "# POS\tPossessive ending\n",
        "# PRP\tPersonal pronoun\n",
        "# PRP$\tPossessive pronoun\n",
        "# RB\tAdverb\n",
        "# RBR\tAdverb, comparative\n",
        "# RBS\tAdverb, superlative\n",
        "# RP\tParticle\n",
        "# SYM\tSymbol\n",
        "# TO\tto\n",
        "# UH\tInterjection\n",
        "# VB\tVerb, base form\n",
        "# VBD\tVerb, past tense\n",
        "# VBG\tVerb, gerund or present participle\n",
        "# VBN\tVerb, past participle\n",
        "# VBP\tVerb, non-3rd person singular present\n",
        "# VBZ\tVerb, 3rd person singular present\n",
        "# WDT\tWh-determiner\n",
        "# WP\tWh-pronoun\n",
        "# WP$\tPossessive wh-pronoun\n",
        "# WRB\tWh-adverb\n",
        "# XX\tUnknown\n",
        "\n",
        "# Consider verb related tags as relations"
      ],
      "metadata": {
        "id": "sKDOpfGB_ufZ"
      },
      "execution_count": 89,
      "outputs": []
    },
    {
      "cell_type": "code",
      "source": [
        "# SimpleT5 model is used to get the Title of the paragraph\n",
        "model_T5 = SimpleT5()\n",
        "model_T5.load_model(\"t5\",\"snrspeaks/t5-one-line-summary\")"
      ],
      "metadata": {
        "id": "lAkU1-9UbSfv"
      },
      "execution_count": 90,
      "outputs": []
    },
    {
      "cell_type": "code",
      "source": [
        "title_t5 = model_T5.predict(input_text)\n",
        "print(title_t5)"
      ],
      "metadata": {
        "id": "fO2KC9T7bf-N",
        "colab": {
          "base_uri": "https://localhost:8080/"
        },
        "outputId": "59fdeb44-deb7-4a92-f500-199dbe1ec3f2"
      },
      "execution_count": 91,
      "outputs": [
        {
          "output_type": "stream",
          "name": "stdout",
          "text": [
            "['The Pens Rule!']\n"
          ]
        }
      ]
    }
  ]
}